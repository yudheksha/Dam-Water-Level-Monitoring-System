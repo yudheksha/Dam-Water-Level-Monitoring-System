{
  "cells": [
    {
      "cell_type": "markdown",
      "metadata": {
        "id": "Odb7wIVZd0k1"
      },
      "source": [
        "# Flood Prediction Machine Learning Model "
      ]
    },
    {
      "cell_type": "code",
      "execution_count": null,
      "metadata": {
        "id": "V39pIHZhd0lC"
      },
      "outputs": [],
      "source": [
        "# This Machine Learning Model uses 5 Machine Learning Algorithms namely KNN Classification, Logistic Regression[LR], Support \n",
        "# Vector[SVM], Decision Tree[DT] and Random Forest[RF] to get the best possible model to predict the floods using Kerela Rainfall Data."
      ]
    },
    {
      "cell_type": "markdown",
      "metadata": {
        "id": "Ce4v4DKod0lL"
      },
      "source": [
        "## Data Insights"
      ]
    },
    {
      "cell_type": "markdown",
      "metadata": {
        "id": "mwxTc89dd0lM"
      },
      "source": [
        "#### Importing Required Libraries."
      ]
    },
    {
      "cell_type": "code",
      "execution_count": null,
      "metadata": {
        "colab": {
          "base_uri": "https://localhost:8080/"
        },
        "id": "kXHDZlwOd0lN",
        "outputId": "cd7351f0-10ca-4f55-af6c-4c6762ada144"
      },
      "outputs": [
        {
          "output_type": "stream",
          "name": "stdout",
          "text": [
            "    SUBDIVISION  YEAR   JAN   FEB   MAR    APR    MAY     JUN     JUL     AUG  \\\n",
            "0        KERALA  1901  28.7  44.7  51.6  160.0  174.7   824.6   743.0   357.5   \n",
            "1        KERALA  1902   6.7   2.6  57.3   83.9  134.5   390.9  1205.0   315.8   \n",
            "2        KERALA  1903   3.2  18.6   3.1   83.6  249.7   558.6  1022.5   420.2   \n",
            "3        KERALA  1904  23.7   3.0  32.2   71.5  235.7  1098.2   725.5   351.8   \n",
            "4        KERALA  1905   1.2  22.3   9.4  105.9  263.3   850.2   520.5   293.6   \n",
            "..          ...   ...   ...   ...   ...    ...    ...     ...     ...     ...   \n",
            "113      KERALA  2014   4.6  10.3  17.9   95.7  251.0   454.4   677.8   733.9   \n",
            "114      KERALA  2015   3.1   5.8  50.1  214.1  201.8   563.6   406.0   252.2   \n",
            "115      KERALA  2016   2.4   3.8  35.9  143.0  186.4   522.2   412.3   325.5   \n",
            "116     KERALA   2017   1.9   6.8   8.9   43.6  173.5   498.5   319.6   531.8   \n",
            "117      KERALA  2018  29.1  52.1  48.6  116.4  183.8   625.4  1048.5  1398.9   \n",
            "\n",
            "       SEP    OCT    NOV    DEC   ANNUAL RAINFALL FLOODS  \n",
            "0    197.7  266.9  350.8   48.4            3248.6    YES  \n",
            "1    491.6  358.4  158.3  121.5            3326.6    YES  \n",
            "2    341.8  354.1  157.0   59.0            3271.2    YES  \n",
            "3    222.7  328.1   33.9    3.3            3129.7    YES  \n",
            "4    217.2  383.5   74.4    0.2            2741.6     NO  \n",
            "..     ...    ...    ...    ...               ...    ...  \n",
            "113  298.8  355.5   99.5   47.2            3046.4    YES  \n",
            "114  292.9  308.1  223.6   79.4            2600.6     NO  \n",
            "115  173.2  225.9  125.4   23.6            2176.6     NO  \n",
            "116  209.5  192.4   92.5   38.1            2117.1     NO  \n",
            "117  423.6  356.1  125.4   65.1            4473.0    YES  \n",
            "\n",
            "[118 rows x 16 columns]\n"
          ]
        }
      ],
      "source": [
        "import numpy as np # linear algebra\n",
        "import pandas as pd # data processing, CSV file I/O (e.g. pd.read_csv)\n",
        "data = pd.read_csv('https://raw.githubusercontent.com/smaranjitghose/floodater/master/data/kerala_rainfall.csv')\n",
        "print(data)"
      ]
    },
    {
      "cell_type": "code",
      "execution_count": null,
      "metadata": {
        "scrolled": true,
        "id": "Hdow-Jtcd0lP",
        "colab": {
          "base_uri": "https://localhost:8080/",
          "height": 206
        },
        "outputId": "cd53af33-ac68-4fe9-a880-f04f294151e5"
      },
      "outputs": [
        {
          "output_type": "execute_result",
          "data": {
            "text/plain": [
              "  SUBDIVISION  YEAR   JAN   FEB   MAR    APR    MAY     JUN     JUL    AUG  \\\n",
              "0      KERALA  1901  28.7  44.7  51.6  160.0  174.7   824.6   743.0  357.5   \n",
              "1      KERALA  1902   6.7   2.6  57.3   83.9  134.5   390.9  1205.0  315.8   \n",
              "2      KERALA  1903   3.2  18.6   3.1   83.6  249.7   558.6  1022.5  420.2   \n",
              "3      KERALA  1904  23.7   3.0  32.2   71.5  235.7  1098.2   725.5  351.8   \n",
              "4      KERALA  1905   1.2  22.3   9.4  105.9  263.3   850.2   520.5  293.6   \n",
              "\n",
              "     SEP    OCT    NOV    DEC   ANNUAL RAINFALL FLOODS  \n",
              "0  197.7  266.9  350.8   48.4            3248.6    YES  \n",
              "1  491.6  358.4  158.3  121.5            3326.6    YES  \n",
              "2  341.8  354.1  157.0   59.0            3271.2    YES  \n",
              "3  222.7  328.1   33.9    3.3            3129.7    YES  \n",
              "4  217.2  383.5   74.4    0.2            2741.6     NO  "
            ],
            "text/html": [
              "\n",
              "  <div id=\"df-e7e30021-5338-4b5d-a3aa-4c246127774b\">\n",
              "    <div class=\"colab-df-container\">\n",
              "      <div>\n",
              "<style scoped>\n",
              "    .dataframe tbody tr th:only-of-type {\n",
              "        vertical-align: middle;\n",
              "    }\n",
              "\n",
              "    .dataframe tbody tr th {\n",
              "        vertical-align: top;\n",
              "    }\n",
              "\n",
              "    .dataframe thead th {\n",
              "        text-align: right;\n",
              "    }\n",
              "</style>\n",
              "<table border=\"1\" class=\"dataframe\">\n",
              "  <thead>\n",
              "    <tr style=\"text-align: right;\">\n",
              "      <th></th>\n",
              "      <th>SUBDIVISION</th>\n",
              "      <th>YEAR</th>\n",
              "      <th>JAN</th>\n",
              "      <th>FEB</th>\n",
              "      <th>MAR</th>\n",
              "      <th>APR</th>\n",
              "      <th>MAY</th>\n",
              "      <th>JUN</th>\n",
              "      <th>JUL</th>\n",
              "      <th>AUG</th>\n",
              "      <th>SEP</th>\n",
              "      <th>OCT</th>\n",
              "      <th>NOV</th>\n",
              "      <th>DEC</th>\n",
              "      <th>ANNUAL RAINFALL</th>\n",
              "      <th>FLOODS</th>\n",
              "    </tr>\n",
              "  </thead>\n",
              "  <tbody>\n",
              "    <tr>\n",
              "      <th>0</th>\n",
              "      <td>KERALA</td>\n",
              "      <td>1901</td>\n",
              "      <td>28.7</td>\n",
              "      <td>44.7</td>\n",
              "      <td>51.6</td>\n",
              "      <td>160.0</td>\n",
              "      <td>174.7</td>\n",
              "      <td>824.6</td>\n",
              "      <td>743.0</td>\n",
              "      <td>357.5</td>\n",
              "      <td>197.7</td>\n",
              "      <td>266.9</td>\n",
              "      <td>350.8</td>\n",
              "      <td>48.4</td>\n",
              "      <td>3248.6</td>\n",
              "      <td>YES</td>\n",
              "    </tr>\n",
              "    <tr>\n",
              "      <th>1</th>\n",
              "      <td>KERALA</td>\n",
              "      <td>1902</td>\n",
              "      <td>6.7</td>\n",
              "      <td>2.6</td>\n",
              "      <td>57.3</td>\n",
              "      <td>83.9</td>\n",
              "      <td>134.5</td>\n",
              "      <td>390.9</td>\n",
              "      <td>1205.0</td>\n",
              "      <td>315.8</td>\n",
              "      <td>491.6</td>\n",
              "      <td>358.4</td>\n",
              "      <td>158.3</td>\n",
              "      <td>121.5</td>\n",
              "      <td>3326.6</td>\n",
              "      <td>YES</td>\n",
              "    </tr>\n",
              "    <tr>\n",
              "      <th>2</th>\n",
              "      <td>KERALA</td>\n",
              "      <td>1903</td>\n",
              "      <td>3.2</td>\n",
              "      <td>18.6</td>\n",
              "      <td>3.1</td>\n",
              "      <td>83.6</td>\n",
              "      <td>249.7</td>\n",
              "      <td>558.6</td>\n",
              "      <td>1022.5</td>\n",
              "      <td>420.2</td>\n",
              "      <td>341.8</td>\n",
              "      <td>354.1</td>\n",
              "      <td>157.0</td>\n",
              "      <td>59.0</td>\n",
              "      <td>3271.2</td>\n",
              "      <td>YES</td>\n",
              "    </tr>\n",
              "    <tr>\n",
              "      <th>3</th>\n",
              "      <td>KERALA</td>\n",
              "      <td>1904</td>\n",
              "      <td>23.7</td>\n",
              "      <td>3.0</td>\n",
              "      <td>32.2</td>\n",
              "      <td>71.5</td>\n",
              "      <td>235.7</td>\n",
              "      <td>1098.2</td>\n",
              "      <td>725.5</td>\n",
              "      <td>351.8</td>\n",
              "      <td>222.7</td>\n",
              "      <td>328.1</td>\n",
              "      <td>33.9</td>\n",
              "      <td>3.3</td>\n",
              "      <td>3129.7</td>\n",
              "      <td>YES</td>\n",
              "    </tr>\n",
              "    <tr>\n",
              "      <th>4</th>\n",
              "      <td>KERALA</td>\n",
              "      <td>1905</td>\n",
              "      <td>1.2</td>\n",
              "      <td>22.3</td>\n",
              "      <td>9.4</td>\n",
              "      <td>105.9</td>\n",
              "      <td>263.3</td>\n",
              "      <td>850.2</td>\n",
              "      <td>520.5</td>\n",
              "      <td>293.6</td>\n",
              "      <td>217.2</td>\n",
              "      <td>383.5</td>\n",
              "      <td>74.4</td>\n",
              "      <td>0.2</td>\n",
              "      <td>2741.6</td>\n",
              "      <td>NO</td>\n",
              "    </tr>\n",
              "  </tbody>\n",
              "</table>\n",
              "</div>\n",
              "      <button class=\"colab-df-convert\" onclick=\"convertToInteractive('df-e7e30021-5338-4b5d-a3aa-4c246127774b')\"\n",
              "              title=\"Convert this dataframe to an interactive table.\"\n",
              "              style=\"display:none;\">\n",
              "        \n",
              "  <svg xmlns=\"http://www.w3.org/2000/svg\" height=\"24px\"viewBox=\"0 0 24 24\"\n",
              "       width=\"24px\">\n",
              "    <path d=\"M0 0h24v24H0V0z\" fill=\"none\"/>\n",
              "    <path d=\"M18.56 5.44l.94 2.06.94-2.06 2.06-.94-2.06-.94-.94-2.06-.94 2.06-2.06.94zm-11 1L8.5 8.5l.94-2.06 2.06-.94-2.06-.94L8.5 2.5l-.94 2.06-2.06.94zm10 10l.94 2.06.94-2.06 2.06-.94-2.06-.94-.94-2.06-.94 2.06-2.06.94z\"/><path d=\"M17.41 7.96l-1.37-1.37c-.4-.4-.92-.59-1.43-.59-.52 0-1.04.2-1.43.59L10.3 9.45l-7.72 7.72c-.78.78-.78 2.05 0 2.83L4 21.41c.39.39.9.59 1.41.59.51 0 1.02-.2 1.41-.59l7.78-7.78 2.81-2.81c.8-.78.8-2.07 0-2.86zM5.41 20L4 18.59l7.72-7.72 1.47 1.35L5.41 20z\"/>\n",
              "  </svg>\n",
              "      </button>\n",
              "      \n",
              "  <style>\n",
              "    .colab-df-container {\n",
              "      display:flex;\n",
              "      flex-wrap:wrap;\n",
              "      gap: 12px;\n",
              "    }\n",
              "\n",
              "    .colab-df-convert {\n",
              "      background-color: #E8F0FE;\n",
              "      border: none;\n",
              "      border-radius: 50%;\n",
              "      cursor: pointer;\n",
              "      display: none;\n",
              "      fill: #1967D2;\n",
              "      height: 32px;\n",
              "      padding: 0 0 0 0;\n",
              "      width: 32px;\n",
              "    }\n",
              "\n",
              "    .colab-df-convert:hover {\n",
              "      background-color: #E2EBFA;\n",
              "      box-shadow: 0px 1px 2px rgba(60, 64, 67, 0.3), 0px 1px 3px 1px rgba(60, 64, 67, 0.15);\n",
              "      fill: #174EA6;\n",
              "    }\n",
              "\n",
              "    [theme=dark] .colab-df-convert {\n",
              "      background-color: #3B4455;\n",
              "      fill: #D2E3FC;\n",
              "    }\n",
              "\n",
              "    [theme=dark] .colab-df-convert:hover {\n",
              "      background-color: #434B5C;\n",
              "      box-shadow: 0px 1px 3px 1px rgba(0, 0, 0, 0.15);\n",
              "      filter: drop-shadow(0px 1px 2px rgba(0, 0, 0, 0.3));\n",
              "      fill: #FFFFFF;\n",
              "    }\n",
              "  </style>\n",
              "\n",
              "      <script>\n",
              "        const buttonEl =\n",
              "          document.querySelector('#df-e7e30021-5338-4b5d-a3aa-4c246127774b button.colab-df-convert');\n",
              "        buttonEl.style.display =\n",
              "          google.colab.kernel.accessAllowed ? 'block' : 'none';\n",
              "\n",
              "        async function convertToInteractive(key) {\n",
              "          const element = document.querySelector('#df-e7e30021-5338-4b5d-a3aa-4c246127774b');\n",
              "          const dataTable =\n",
              "            await google.colab.kernel.invokeFunction('convertToInteractive',\n",
              "                                                     [key], {});\n",
              "          if (!dataTable) return;\n",
              "\n",
              "          const docLinkHtml = 'Like what you see? Visit the ' +\n",
              "            '<a target=\"_blank\" href=https://colab.research.google.com/notebooks/data_table.ipynb>data table notebook</a>'\n",
              "            + ' to learn more about interactive tables.';\n",
              "          element.innerHTML = '';\n",
              "          dataTable['output_type'] = 'display_data';\n",
              "          await google.colab.output.renderOutput(dataTable, element);\n",
              "          const docLink = document.createElement('div');\n",
              "          docLink.innerHTML = docLinkHtml;\n",
              "          element.appendChild(docLink);\n",
              "        }\n",
              "      </script>\n",
              "    </div>\n",
              "  </div>\n",
              "  "
            ]
          },
          "metadata": {},
          "execution_count": 122
        }
      ],
      "source": [
        "data.head()"
      ]
    },
    {
      "cell_type": "code",
      "execution_count": null,
      "metadata": {
        "scrolled": true,
        "id": "oSoa3GMnd0lS",
        "colab": {
          "base_uri": "https://localhost:8080/",
          "height": 206
        },
        "outputId": "f52a0b32-f1f1-431f-f2eb-b6adc62e8ca6"
      },
      "outputs": [
        {
          "output_type": "execute_result",
          "data": {
            "text/plain": [
              "    SUBDIVISION  YEAR   JAN   FEB   MAR    APR    MAY    JUN     JUL     AUG  \\\n",
              "113      KERALA  2014   4.6  10.3  17.9   95.7  251.0  454.4   677.8   733.9   \n",
              "114      KERALA  2015   3.1   5.8  50.1  214.1  201.8  563.6   406.0   252.2   \n",
              "115      KERALA  2016   2.4   3.8  35.9  143.0  186.4  522.2   412.3   325.5   \n",
              "116     KERALA   2017   1.9   6.8   8.9   43.6  173.5  498.5   319.6   531.8   \n",
              "117      KERALA  2018  29.1  52.1  48.6  116.4  183.8  625.4  1048.5  1398.9   \n",
              "\n",
              "       SEP    OCT    NOV   DEC   ANNUAL RAINFALL FLOODS  \n",
              "113  298.8  355.5   99.5  47.2            3046.4    YES  \n",
              "114  292.9  308.1  223.6  79.4            2600.6     NO  \n",
              "115  173.2  225.9  125.4  23.6            2176.6     NO  \n",
              "116  209.5  192.4   92.5  38.1            2117.1     NO  \n",
              "117  423.6  356.1  125.4  65.1            4473.0    YES  "
            ],
            "text/html": [
              "\n",
              "  <div id=\"df-9a66c65a-b274-40cb-9d8c-2d86b3c65af8\">\n",
              "    <div class=\"colab-df-container\">\n",
              "      <div>\n",
              "<style scoped>\n",
              "    .dataframe tbody tr th:only-of-type {\n",
              "        vertical-align: middle;\n",
              "    }\n",
              "\n",
              "    .dataframe tbody tr th {\n",
              "        vertical-align: top;\n",
              "    }\n",
              "\n",
              "    .dataframe thead th {\n",
              "        text-align: right;\n",
              "    }\n",
              "</style>\n",
              "<table border=\"1\" class=\"dataframe\">\n",
              "  <thead>\n",
              "    <tr style=\"text-align: right;\">\n",
              "      <th></th>\n",
              "      <th>SUBDIVISION</th>\n",
              "      <th>YEAR</th>\n",
              "      <th>JAN</th>\n",
              "      <th>FEB</th>\n",
              "      <th>MAR</th>\n",
              "      <th>APR</th>\n",
              "      <th>MAY</th>\n",
              "      <th>JUN</th>\n",
              "      <th>JUL</th>\n",
              "      <th>AUG</th>\n",
              "      <th>SEP</th>\n",
              "      <th>OCT</th>\n",
              "      <th>NOV</th>\n",
              "      <th>DEC</th>\n",
              "      <th>ANNUAL RAINFALL</th>\n",
              "      <th>FLOODS</th>\n",
              "    </tr>\n",
              "  </thead>\n",
              "  <tbody>\n",
              "    <tr>\n",
              "      <th>113</th>\n",
              "      <td>KERALA</td>\n",
              "      <td>2014</td>\n",
              "      <td>4.6</td>\n",
              "      <td>10.3</td>\n",
              "      <td>17.9</td>\n",
              "      <td>95.7</td>\n",
              "      <td>251.0</td>\n",
              "      <td>454.4</td>\n",
              "      <td>677.8</td>\n",
              "      <td>733.9</td>\n",
              "      <td>298.8</td>\n",
              "      <td>355.5</td>\n",
              "      <td>99.5</td>\n",
              "      <td>47.2</td>\n",
              "      <td>3046.4</td>\n",
              "      <td>YES</td>\n",
              "    </tr>\n",
              "    <tr>\n",
              "      <th>114</th>\n",
              "      <td>KERALA</td>\n",
              "      <td>2015</td>\n",
              "      <td>3.1</td>\n",
              "      <td>5.8</td>\n",
              "      <td>50.1</td>\n",
              "      <td>214.1</td>\n",
              "      <td>201.8</td>\n",
              "      <td>563.6</td>\n",
              "      <td>406.0</td>\n",
              "      <td>252.2</td>\n",
              "      <td>292.9</td>\n",
              "      <td>308.1</td>\n",
              "      <td>223.6</td>\n",
              "      <td>79.4</td>\n",
              "      <td>2600.6</td>\n",
              "      <td>NO</td>\n",
              "    </tr>\n",
              "    <tr>\n",
              "      <th>115</th>\n",
              "      <td>KERALA</td>\n",
              "      <td>2016</td>\n",
              "      <td>2.4</td>\n",
              "      <td>3.8</td>\n",
              "      <td>35.9</td>\n",
              "      <td>143.0</td>\n",
              "      <td>186.4</td>\n",
              "      <td>522.2</td>\n",
              "      <td>412.3</td>\n",
              "      <td>325.5</td>\n",
              "      <td>173.2</td>\n",
              "      <td>225.9</td>\n",
              "      <td>125.4</td>\n",
              "      <td>23.6</td>\n",
              "      <td>2176.6</td>\n",
              "      <td>NO</td>\n",
              "    </tr>\n",
              "    <tr>\n",
              "      <th>116</th>\n",
              "      <td>KERALA</td>\n",
              "      <td>2017</td>\n",
              "      <td>1.9</td>\n",
              "      <td>6.8</td>\n",
              "      <td>8.9</td>\n",
              "      <td>43.6</td>\n",
              "      <td>173.5</td>\n",
              "      <td>498.5</td>\n",
              "      <td>319.6</td>\n",
              "      <td>531.8</td>\n",
              "      <td>209.5</td>\n",
              "      <td>192.4</td>\n",
              "      <td>92.5</td>\n",
              "      <td>38.1</td>\n",
              "      <td>2117.1</td>\n",
              "      <td>NO</td>\n",
              "    </tr>\n",
              "    <tr>\n",
              "      <th>117</th>\n",
              "      <td>KERALA</td>\n",
              "      <td>2018</td>\n",
              "      <td>29.1</td>\n",
              "      <td>52.1</td>\n",
              "      <td>48.6</td>\n",
              "      <td>116.4</td>\n",
              "      <td>183.8</td>\n",
              "      <td>625.4</td>\n",
              "      <td>1048.5</td>\n",
              "      <td>1398.9</td>\n",
              "      <td>423.6</td>\n",
              "      <td>356.1</td>\n",
              "      <td>125.4</td>\n",
              "      <td>65.1</td>\n",
              "      <td>4473.0</td>\n",
              "      <td>YES</td>\n",
              "    </tr>\n",
              "  </tbody>\n",
              "</table>\n",
              "</div>\n",
              "      <button class=\"colab-df-convert\" onclick=\"convertToInteractive('df-9a66c65a-b274-40cb-9d8c-2d86b3c65af8')\"\n",
              "              title=\"Convert this dataframe to an interactive table.\"\n",
              "              style=\"display:none;\">\n",
              "        \n",
              "  <svg xmlns=\"http://www.w3.org/2000/svg\" height=\"24px\"viewBox=\"0 0 24 24\"\n",
              "       width=\"24px\">\n",
              "    <path d=\"M0 0h24v24H0V0z\" fill=\"none\"/>\n",
              "    <path d=\"M18.56 5.44l.94 2.06.94-2.06 2.06-.94-2.06-.94-.94-2.06-.94 2.06-2.06.94zm-11 1L8.5 8.5l.94-2.06 2.06-.94-2.06-.94L8.5 2.5l-.94 2.06-2.06.94zm10 10l.94 2.06.94-2.06 2.06-.94-2.06-.94-.94-2.06-.94 2.06-2.06.94z\"/><path d=\"M17.41 7.96l-1.37-1.37c-.4-.4-.92-.59-1.43-.59-.52 0-1.04.2-1.43.59L10.3 9.45l-7.72 7.72c-.78.78-.78 2.05 0 2.83L4 21.41c.39.39.9.59 1.41.59.51 0 1.02-.2 1.41-.59l7.78-7.78 2.81-2.81c.8-.78.8-2.07 0-2.86zM5.41 20L4 18.59l7.72-7.72 1.47 1.35L5.41 20z\"/>\n",
              "  </svg>\n",
              "      </button>\n",
              "      \n",
              "  <style>\n",
              "    .colab-df-container {\n",
              "      display:flex;\n",
              "      flex-wrap:wrap;\n",
              "      gap: 12px;\n",
              "    }\n",
              "\n",
              "    .colab-df-convert {\n",
              "      background-color: #E8F0FE;\n",
              "      border: none;\n",
              "      border-radius: 50%;\n",
              "      cursor: pointer;\n",
              "      display: none;\n",
              "      fill: #1967D2;\n",
              "      height: 32px;\n",
              "      padding: 0 0 0 0;\n",
              "      width: 32px;\n",
              "    }\n",
              "\n",
              "    .colab-df-convert:hover {\n",
              "      background-color: #E2EBFA;\n",
              "      box-shadow: 0px 1px 2px rgba(60, 64, 67, 0.3), 0px 1px 3px 1px rgba(60, 64, 67, 0.15);\n",
              "      fill: #174EA6;\n",
              "    }\n",
              "\n",
              "    [theme=dark] .colab-df-convert {\n",
              "      background-color: #3B4455;\n",
              "      fill: #D2E3FC;\n",
              "    }\n",
              "\n",
              "    [theme=dark] .colab-df-convert:hover {\n",
              "      background-color: #434B5C;\n",
              "      box-shadow: 0px 1px 3px 1px rgba(0, 0, 0, 0.15);\n",
              "      filter: drop-shadow(0px 1px 2px rgba(0, 0, 0, 0.3));\n",
              "      fill: #FFFFFF;\n",
              "    }\n",
              "  </style>\n",
              "\n",
              "      <script>\n",
              "        const buttonEl =\n",
              "          document.querySelector('#df-9a66c65a-b274-40cb-9d8c-2d86b3c65af8 button.colab-df-convert');\n",
              "        buttonEl.style.display =\n",
              "          google.colab.kernel.accessAllowed ? 'block' : 'none';\n",
              "\n",
              "        async function convertToInteractive(key) {\n",
              "          const element = document.querySelector('#df-9a66c65a-b274-40cb-9d8c-2d86b3c65af8');\n",
              "          const dataTable =\n",
              "            await google.colab.kernel.invokeFunction('convertToInteractive',\n",
              "                                                     [key], {});\n",
              "          if (!dataTable) return;\n",
              "\n",
              "          const docLinkHtml = 'Like what you see? Visit the ' +\n",
              "            '<a target=\"_blank\" href=https://colab.research.google.com/notebooks/data_table.ipynb>data table notebook</a>'\n",
              "            + ' to learn more about interactive tables.';\n",
              "          element.innerHTML = '';\n",
              "          dataTable['output_type'] = 'display_data';\n",
              "          await google.colab.output.renderOutput(dataTable, element);\n",
              "          const docLink = document.createElement('div');\n",
              "          docLink.innerHTML = docLinkHtml;\n",
              "          element.appendChild(docLink);\n",
              "        }\n",
              "      </script>\n",
              "    </div>\n",
              "  </div>\n",
              "  "
            ]
          },
          "metadata": {},
          "execution_count": 123
        }
      ],
      "source": [
        "data.tail()"
      ]
    },
    {
      "cell_type": "markdown",
      "metadata": {
        "id": "V4uCArCPd0lU"
      },
      "source": [
        "# Finding number of missing values"
      ]
    },
    {
      "cell_type": "code",
      "execution_count": null,
      "metadata": {
        "id": "h2rxCNVsd0lU",
        "colab": {
          "base_uri": "https://localhost:8080/"
        },
        "outputId": "b419b230-2912-4c34-d76a-fe242f55052b"
      },
      "outputs": [
        {
          "output_type": "execute_result",
          "data": {
            "text/plain": [
              "SUBDIVISION         0\n",
              "YEAR                0\n",
              "JAN                 0\n",
              "FEB                 0\n",
              "MAR                 0\n",
              "APR                 0\n",
              "MAY                 0\n",
              "JUN                 0\n",
              "JUL                 0\n",
              "AUG                 0\n",
              "SEP                 0\n",
              "OCT                 0\n",
              "NOV                 0\n",
              "DEC                 0\n",
              " ANNUAL RAINFALL    0\n",
              "FLOODS              0\n",
              "dtype: int64"
            ]
          },
          "metadata": {},
          "execution_count": 124
        }
      ],
      "source": [
        "data.isnull().sum()  # cheaking if any colomns is left empty or not."
      ]
    },
    {
      "cell_type": "markdown",
      "metadata": {
        "id": "XTRLmVCxd0lV"
      },
      "source": [
        "# Analyzing the Dataset"
      ]
    },
    {
      "cell_type": "code",
      "execution_count": null,
      "metadata": {
        "id": "qMR63nhMd0lW",
        "colab": {
          "base_uri": "https://localhost:8080/"
        },
        "outputId": "8cfd18ca-fb26-4e4b-94d0-a3988cfcba06"
      },
      "outputs": [
        {
          "output_type": "stream",
          "name": "stdout",
          "text": [
            "(118, 16)\n"
          ]
        }
      ],
      "source": [
        "print(data.shape)"
      ]
    },
    {
      "cell_type": "code",
      "execution_count": null,
      "metadata": {
        "id": "KkrOe-uLd0lX",
        "colab": {
          "base_uri": "https://localhost:8080/",
          "height": 381
        },
        "outputId": "78dc9858-22d6-4e7a-928b-4dfb3a6c2303"
      },
      "outputs": [
        {
          "output_type": "execute_result",
          "data": {
            "text/plain": [
              "              YEAR         JAN         FEB         MAR         APR  \\\n",
              "count   118.000000  118.000000  118.000000  118.000000  118.000000   \n",
              "mean   1959.500000   12.218644   15.633898   36.670339  110.330508   \n",
              "std      34.207699   15.473766   16.406290   30.063862   44.633452   \n",
              "min    1901.000000    0.000000    0.000000    0.100000   13.100000   \n",
              "25%    1930.250000    2.175000    4.700000   18.100000   74.350000   \n",
              "50%    1959.500000    5.800000    8.350000   28.400000  110.400000   \n",
              "75%    1988.750000   18.175000   21.400000   49.825000  136.450000   \n",
              "max    2018.000000   83.500000   79.000000  217.200000  238.000000   \n",
              "\n",
              "              MAY          JUN          JUL          AUG         SEP  \\\n",
              "count  118.000000   118.000000   118.000000   118.000000  118.000000   \n",
              "mean   228.644915   651.617797   698.220339   430.369492  246.207627   \n",
              "std    147.548778   186.181363   228.988966   181.980463  121.901131   \n",
              "min     53.400000   196.800000   167.500000   178.600000   41.300000   \n",
              "25%    125.050000   535.550000   533.200000   316.725000  155.425000   \n",
              "50%    184.600000   625.600000   691.650000   386.250000  223.550000   \n",
              "75%    264.875000   786.975000   832.425000   500.100000  334.500000   \n",
              "max    738.800000  1098.200000  1526.500000  1398.900000  526.700000   \n",
              "\n",
              "              OCT         NOV         DEC   ANNUAL RAINFALL  \n",
              "count  118.000000  118.000000  118.000000        118.000000  \n",
              "mean   293.207627  162.311017   40.009322       2925.405085  \n",
              "std     93.705253   83.200485   36.676330        452.169407  \n",
              "min     68.500000   31.500000    0.100000       2068.800000  \n",
              "25%    222.125000   93.025000   10.350000       2613.525000  \n",
              "50%    284.300000  152.450000   31.100000       2934.300000  \n",
              "75%    355.150000  218.325000   54.025000       3170.400000  \n",
              "max    567.900000  365.600000  202.300000       4473.000000  "
            ],
            "text/html": [
              "\n",
              "  <div id=\"df-38ad6614-3d7b-4e80-95b7-922a8168a7bf\">\n",
              "    <div class=\"colab-df-container\">\n",
              "      <div>\n",
              "<style scoped>\n",
              "    .dataframe tbody tr th:only-of-type {\n",
              "        vertical-align: middle;\n",
              "    }\n",
              "\n",
              "    .dataframe tbody tr th {\n",
              "        vertical-align: top;\n",
              "    }\n",
              "\n",
              "    .dataframe thead th {\n",
              "        text-align: right;\n",
              "    }\n",
              "</style>\n",
              "<table border=\"1\" class=\"dataframe\">\n",
              "  <thead>\n",
              "    <tr style=\"text-align: right;\">\n",
              "      <th></th>\n",
              "      <th>YEAR</th>\n",
              "      <th>JAN</th>\n",
              "      <th>FEB</th>\n",
              "      <th>MAR</th>\n",
              "      <th>APR</th>\n",
              "      <th>MAY</th>\n",
              "      <th>JUN</th>\n",
              "      <th>JUL</th>\n",
              "      <th>AUG</th>\n",
              "      <th>SEP</th>\n",
              "      <th>OCT</th>\n",
              "      <th>NOV</th>\n",
              "      <th>DEC</th>\n",
              "      <th>ANNUAL RAINFALL</th>\n",
              "    </tr>\n",
              "  </thead>\n",
              "  <tbody>\n",
              "    <tr>\n",
              "      <th>count</th>\n",
              "      <td>118.000000</td>\n",
              "      <td>118.000000</td>\n",
              "      <td>118.000000</td>\n",
              "      <td>118.000000</td>\n",
              "      <td>118.000000</td>\n",
              "      <td>118.000000</td>\n",
              "      <td>118.000000</td>\n",
              "      <td>118.000000</td>\n",
              "      <td>118.000000</td>\n",
              "      <td>118.000000</td>\n",
              "      <td>118.000000</td>\n",
              "      <td>118.000000</td>\n",
              "      <td>118.000000</td>\n",
              "      <td>118.000000</td>\n",
              "    </tr>\n",
              "    <tr>\n",
              "      <th>mean</th>\n",
              "      <td>1959.500000</td>\n",
              "      <td>12.218644</td>\n",
              "      <td>15.633898</td>\n",
              "      <td>36.670339</td>\n",
              "      <td>110.330508</td>\n",
              "      <td>228.644915</td>\n",
              "      <td>651.617797</td>\n",
              "      <td>698.220339</td>\n",
              "      <td>430.369492</td>\n",
              "      <td>246.207627</td>\n",
              "      <td>293.207627</td>\n",
              "      <td>162.311017</td>\n",
              "      <td>40.009322</td>\n",
              "      <td>2925.405085</td>\n",
              "    </tr>\n",
              "    <tr>\n",
              "      <th>std</th>\n",
              "      <td>34.207699</td>\n",
              "      <td>15.473766</td>\n",
              "      <td>16.406290</td>\n",
              "      <td>30.063862</td>\n",
              "      <td>44.633452</td>\n",
              "      <td>147.548778</td>\n",
              "      <td>186.181363</td>\n",
              "      <td>228.988966</td>\n",
              "      <td>181.980463</td>\n",
              "      <td>121.901131</td>\n",
              "      <td>93.705253</td>\n",
              "      <td>83.200485</td>\n",
              "      <td>36.676330</td>\n",
              "      <td>452.169407</td>\n",
              "    </tr>\n",
              "    <tr>\n",
              "      <th>min</th>\n",
              "      <td>1901.000000</td>\n",
              "      <td>0.000000</td>\n",
              "      <td>0.000000</td>\n",
              "      <td>0.100000</td>\n",
              "      <td>13.100000</td>\n",
              "      <td>53.400000</td>\n",
              "      <td>196.800000</td>\n",
              "      <td>167.500000</td>\n",
              "      <td>178.600000</td>\n",
              "      <td>41.300000</td>\n",
              "      <td>68.500000</td>\n",
              "      <td>31.500000</td>\n",
              "      <td>0.100000</td>\n",
              "      <td>2068.800000</td>\n",
              "    </tr>\n",
              "    <tr>\n",
              "      <th>25%</th>\n",
              "      <td>1930.250000</td>\n",
              "      <td>2.175000</td>\n",
              "      <td>4.700000</td>\n",
              "      <td>18.100000</td>\n",
              "      <td>74.350000</td>\n",
              "      <td>125.050000</td>\n",
              "      <td>535.550000</td>\n",
              "      <td>533.200000</td>\n",
              "      <td>316.725000</td>\n",
              "      <td>155.425000</td>\n",
              "      <td>222.125000</td>\n",
              "      <td>93.025000</td>\n",
              "      <td>10.350000</td>\n",
              "      <td>2613.525000</td>\n",
              "    </tr>\n",
              "    <tr>\n",
              "      <th>50%</th>\n",
              "      <td>1959.500000</td>\n",
              "      <td>5.800000</td>\n",
              "      <td>8.350000</td>\n",
              "      <td>28.400000</td>\n",
              "      <td>110.400000</td>\n",
              "      <td>184.600000</td>\n",
              "      <td>625.600000</td>\n",
              "      <td>691.650000</td>\n",
              "      <td>386.250000</td>\n",
              "      <td>223.550000</td>\n",
              "      <td>284.300000</td>\n",
              "      <td>152.450000</td>\n",
              "      <td>31.100000</td>\n",
              "      <td>2934.300000</td>\n",
              "    </tr>\n",
              "    <tr>\n",
              "      <th>75%</th>\n",
              "      <td>1988.750000</td>\n",
              "      <td>18.175000</td>\n",
              "      <td>21.400000</td>\n",
              "      <td>49.825000</td>\n",
              "      <td>136.450000</td>\n",
              "      <td>264.875000</td>\n",
              "      <td>786.975000</td>\n",
              "      <td>832.425000</td>\n",
              "      <td>500.100000</td>\n",
              "      <td>334.500000</td>\n",
              "      <td>355.150000</td>\n",
              "      <td>218.325000</td>\n",
              "      <td>54.025000</td>\n",
              "      <td>3170.400000</td>\n",
              "    </tr>\n",
              "    <tr>\n",
              "      <th>max</th>\n",
              "      <td>2018.000000</td>\n",
              "      <td>83.500000</td>\n",
              "      <td>79.000000</td>\n",
              "      <td>217.200000</td>\n",
              "      <td>238.000000</td>\n",
              "      <td>738.800000</td>\n",
              "      <td>1098.200000</td>\n",
              "      <td>1526.500000</td>\n",
              "      <td>1398.900000</td>\n",
              "      <td>526.700000</td>\n",
              "      <td>567.900000</td>\n",
              "      <td>365.600000</td>\n",
              "      <td>202.300000</td>\n",
              "      <td>4473.000000</td>\n",
              "    </tr>\n",
              "  </tbody>\n",
              "</table>\n",
              "</div>\n",
              "      <button class=\"colab-df-convert\" onclick=\"convertToInteractive('df-38ad6614-3d7b-4e80-95b7-922a8168a7bf')\"\n",
              "              title=\"Convert this dataframe to an interactive table.\"\n",
              "              style=\"display:none;\">\n",
              "        \n",
              "  <svg xmlns=\"http://www.w3.org/2000/svg\" height=\"24px\"viewBox=\"0 0 24 24\"\n",
              "       width=\"24px\">\n",
              "    <path d=\"M0 0h24v24H0V0z\" fill=\"none\"/>\n",
              "    <path d=\"M18.56 5.44l.94 2.06.94-2.06 2.06-.94-2.06-.94-.94-2.06-.94 2.06-2.06.94zm-11 1L8.5 8.5l.94-2.06 2.06-.94-2.06-.94L8.5 2.5l-.94 2.06-2.06.94zm10 10l.94 2.06.94-2.06 2.06-.94-2.06-.94-.94-2.06-.94 2.06-2.06.94z\"/><path d=\"M17.41 7.96l-1.37-1.37c-.4-.4-.92-.59-1.43-.59-.52 0-1.04.2-1.43.59L10.3 9.45l-7.72 7.72c-.78.78-.78 2.05 0 2.83L4 21.41c.39.39.9.59 1.41.59.51 0 1.02-.2 1.41-.59l7.78-7.78 2.81-2.81c.8-.78.8-2.07 0-2.86zM5.41 20L4 18.59l7.72-7.72 1.47 1.35L5.41 20z\"/>\n",
              "  </svg>\n",
              "      </button>\n",
              "      \n",
              "  <style>\n",
              "    .colab-df-container {\n",
              "      display:flex;\n",
              "      flex-wrap:wrap;\n",
              "      gap: 12px;\n",
              "    }\n",
              "\n",
              "    .colab-df-convert {\n",
              "      background-color: #E8F0FE;\n",
              "      border: none;\n",
              "      border-radius: 50%;\n",
              "      cursor: pointer;\n",
              "      display: none;\n",
              "      fill: #1967D2;\n",
              "      height: 32px;\n",
              "      padding: 0 0 0 0;\n",
              "      width: 32px;\n",
              "    }\n",
              "\n",
              "    .colab-df-convert:hover {\n",
              "      background-color: #E2EBFA;\n",
              "      box-shadow: 0px 1px 2px rgba(60, 64, 67, 0.3), 0px 1px 3px 1px rgba(60, 64, 67, 0.15);\n",
              "      fill: #174EA6;\n",
              "    }\n",
              "\n",
              "    [theme=dark] .colab-df-convert {\n",
              "      background-color: #3B4455;\n",
              "      fill: #D2E3FC;\n",
              "    }\n",
              "\n",
              "    [theme=dark] .colab-df-convert:hover {\n",
              "      background-color: #434B5C;\n",
              "      box-shadow: 0px 1px 3px 1px rgba(0, 0, 0, 0.15);\n",
              "      filter: drop-shadow(0px 1px 2px rgba(0, 0, 0, 0.3));\n",
              "      fill: #FFFFFF;\n",
              "    }\n",
              "  </style>\n",
              "\n",
              "      <script>\n",
              "        const buttonEl =\n",
              "          document.querySelector('#df-38ad6614-3d7b-4e80-95b7-922a8168a7bf button.colab-df-convert');\n",
              "        buttonEl.style.display =\n",
              "          google.colab.kernel.accessAllowed ? 'block' : 'none';\n",
              "\n",
              "        async function convertToInteractive(key) {\n",
              "          const element = document.querySelector('#df-38ad6614-3d7b-4e80-95b7-922a8168a7bf');\n",
              "          const dataTable =\n",
              "            await google.colab.kernel.invokeFunction('convertToInteractive',\n",
              "                                                     [key], {});\n",
              "          if (!dataTable) return;\n",
              "\n",
              "          const docLinkHtml = 'Like what you see? Visit the ' +\n",
              "            '<a target=\"_blank\" href=https://colab.research.google.com/notebooks/data_table.ipynb>data table notebook</a>'\n",
              "            + ' to learn more about interactive tables.';\n",
              "          element.innerHTML = '';\n",
              "          dataTable['output_type'] = 'display_data';\n",
              "          await google.colab.output.renderOutput(dataTable, element);\n",
              "          const docLink = document.createElement('div');\n",
              "          docLink.innerHTML = docLinkHtml;\n",
              "          element.appendChild(docLink);\n",
              "        }\n",
              "      </script>\n",
              "    </div>\n",
              "  </div>\n",
              "  "
            ]
          },
          "metadata": {},
          "execution_count": 126
        }
      ],
      "source": [
        "data.describe()"
      ]
    },
    {
      "cell_type": "code",
      "execution_count": null,
      "metadata": {
        "id": "JvGZMw0Ld0lX",
        "colab": {
          "base_uri": "https://localhost:8080/"
        },
        "outputId": "84b460bd-57e5-4cc7-b2f0-99bafee018a4"
      },
      "outputs": [
        {
          "output_type": "execute_result",
          "data": {
            "text/plain": [
              "<bound method DataFrame.info of     SUBDIVISION  YEAR   JAN   FEB   MAR    APR    MAY     JUN     JUL     AUG  \\\n",
              "0        KERALA  1901  28.7  44.7  51.6  160.0  174.7   824.6   743.0   357.5   \n",
              "1        KERALA  1902   6.7   2.6  57.3   83.9  134.5   390.9  1205.0   315.8   \n",
              "2        KERALA  1903   3.2  18.6   3.1   83.6  249.7   558.6  1022.5   420.2   \n",
              "3        KERALA  1904  23.7   3.0  32.2   71.5  235.7  1098.2   725.5   351.8   \n",
              "4        KERALA  1905   1.2  22.3   9.4  105.9  263.3   850.2   520.5   293.6   \n",
              "..          ...   ...   ...   ...   ...    ...    ...     ...     ...     ...   \n",
              "113      KERALA  2014   4.6  10.3  17.9   95.7  251.0   454.4   677.8   733.9   \n",
              "114      KERALA  2015   3.1   5.8  50.1  214.1  201.8   563.6   406.0   252.2   \n",
              "115      KERALA  2016   2.4   3.8  35.9  143.0  186.4   522.2   412.3   325.5   \n",
              "116     KERALA   2017   1.9   6.8   8.9   43.6  173.5   498.5   319.6   531.8   \n",
              "117      KERALA  2018  29.1  52.1  48.6  116.4  183.8   625.4  1048.5  1398.9   \n",
              "\n",
              "       SEP    OCT    NOV    DEC   ANNUAL RAINFALL FLOODS  \n",
              "0    197.7  266.9  350.8   48.4            3248.6    YES  \n",
              "1    491.6  358.4  158.3  121.5            3326.6    YES  \n",
              "2    341.8  354.1  157.0   59.0            3271.2    YES  \n",
              "3    222.7  328.1   33.9    3.3            3129.7    YES  \n",
              "4    217.2  383.5   74.4    0.2            2741.6     NO  \n",
              "..     ...    ...    ...    ...               ...    ...  \n",
              "113  298.8  355.5   99.5   47.2            3046.4    YES  \n",
              "114  292.9  308.1  223.6   79.4            2600.6     NO  \n",
              "115  173.2  225.9  125.4   23.6            2176.6     NO  \n",
              "116  209.5  192.4   92.5   38.1            2117.1     NO  \n",
              "117  423.6  356.1  125.4   65.1            4473.0    YES  \n",
              "\n",
              "[118 rows x 16 columns]>"
            ]
          },
          "metadata": {},
          "execution_count": 127
        }
      ],
      "source": [
        "data.info"
      ]
    },
    {
      "cell_type": "code",
      "execution_count": null,
      "metadata": {
        "id": "PRvHKc7kd0lY",
        "colab": {
          "base_uri": "https://localhost:8080/",
          "height": 587
        },
        "outputId": "d53383de-38d2-45f2-ff7d-38ff6d4b8e53"
      },
      "outputs": [
        {
          "output_type": "execute_result",
          "data": {
            "text/plain": [
              "                         YEAR         JAN         FEB          MAR  \\\n",
              "YEAR              1170.166667 -119.378632    2.176923   -13.207265   \n",
              "JAN               -119.378632  239.437427    4.979192    36.577053   \n",
              "FEB                  2.176923    4.979192  269.166362   121.027766   \n",
              "MAR                -13.207265   36.577053  121.027766   903.835779   \n",
              "APR                132.625641   24.039512   90.585966    99.315784   \n",
              "MAY               -301.126068  163.062403 -202.129655  -456.721990   \n",
              "JUN              -1114.149145  545.574281  165.293580   106.348567   \n",
              "JUL              -1749.953846  121.970900   21.748364   126.186249   \n",
              "AUG                274.983761   24.434163   69.442838   232.033874   \n",
              "SEP                448.915812 -214.094844  132.629654   527.184758   \n",
              "OCT                -96.876496  -50.812451   81.684355   -64.980285   \n",
              "NOV               -370.360256  -14.205421 -222.332684   -81.573089   \n",
              "DEC               -155.123504  -50.968209  -76.434079    28.990108   \n",
              " ANNUAL RAINFALL -3063.344444  830.154092  455.913330  1578.305793   \n",
              "\n",
              "                          APR           MAY           JUN           JUL  \\\n",
              "YEAR               132.625641   -301.126068  -1114.149145  -1749.953846   \n",
              "JAN                 24.039512    163.062403    545.574281    121.970900   \n",
              "FEB                 90.585966   -202.129655    165.293580     21.748364   \n",
              "MAR                 99.315784   -456.721990    106.348567    126.186249   \n",
              "APR               1992.145044   -754.490185    606.540393    153.070058   \n",
              "MAY               -754.490185  21770.641812     33.929279  -1571.703571   \n",
              "JUN                606.540393     33.929279  34663.499937   4047.567071   \n",
              "JUL                153.070058  -1571.703571   4047.567071  52435.946420   \n",
              "AUG               -388.591540  -3340.586652   -492.944239   6436.876865   \n",
              "SEP                 70.336859   2101.892304  -1194.576633   5846.347194   \n",
              "OCT                473.330962   2725.149056     20.161145    541.214459   \n",
              "NOV                 82.464276   1165.417193    247.329460   -543.479371   \n",
              "DEC               -180.710372   -638.978371   -581.699654   -113.988396   \n",
              " ANNUAL RAINFALL  2267.590185  20997.420795  38170.332986  67508.201520   \n",
              "\n",
              "                           AUG           SEP          OCT          NOV  \\\n",
              "YEAR                274.983761    448.915812   -96.876496  -370.360256   \n",
              "JAN                  24.434163   -214.094844   -50.812451   -14.205421   \n",
              "FEB                  69.442838    132.629654    81.684355  -222.332684   \n",
              "MAR                 232.033874    527.184758   -64.980285   -81.573089   \n",
              "APR                -388.591540     70.336859   473.330962    82.464276   \n",
              "MAY               -3340.586652   2101.892304  2725.149056  1165.417193   \n",
              "JUN                -492.944239  -1194.576633    20.161145   247.329460   \n",
              "JUL                6436.876865   5846.347194   541.214459  -543.479371   \n",
              "AUG               33116.888805   2178.762799 -3094.959423 -1706.808293   \n",
              "SEP                2178.762799  14859.885839  -369.500828  -280.077350   \n",
              "OCT               -3094.959423   -369.500828  8780.674386  -187.580256   \n",
              "NOV               -1706.808293   -280.077350  -187.580256  6922.320647   \n",
              "DEC                 948.365073    -49.210243  -134.262978   215.801948   \n",
              " ANNUAL RAINFALL  33987.052721  23610.285602  8722.467910  5597.319516   \n",
              "\n",
              "                          DEC   ANNUAL RAINFALL  \n",
              "YEAR              -155.123504      -3063.344444  \n",
              "JAN                -50.968209        830.154092  \n",
              "FEB                -76.434079        455.913330  \n",
              "MAR                 28.990108       1578.305793  \n",
              "APR               -180.710372       2267.590185  \n",
              "MAY               -638.978371      20997.420795  \n",
              "JUN               -581.699654      38170.332986  \n",
              "JUL               -113.988396      67508.201520  \n",
              "AUG                948.365073      33987.052721  \n",
              "SEP                -49.210243      23610.285602  \n",
              "OCT               -134.262978       8722.467910  \n",
              "NOV                215.801948       5597.319516  \n",
              "DEC               1345.153160        712.560721  \n",
              " ANNUAL RAINFALL   712.560721     204457.172453  "
            ],
            "text/html": [
              "\n",
              "  <div id=\"df-f5a50cf9-3bdf-456d-8540-5636153550f2\">\n",
              "    <div class=\"colab-df-container\">\n",
              "      <div>\n",
              "<style scoped>\n",
              "    .dataframe tbody tr th:only-of-type {\n",
              "        vertical-align: middle;\n",
              "    }\n",
              "\n",
              "    .dataframe tbody tr th {\n",
              "        vertical-align: top;\n",
              "    }\n",
              "\n",
              "    .dataframe thead th {\n",
              "        text-align: right;\n",
              "    }\n",
              "</style>\n",
              "<table border=\"1\" class=\"dataframe\">\n",
              "  <thead>\n",
              "    <tr style=\"text-align: right;\">\n",
              "      <th></th>\n",
              "      <th>YEAR</th>\n",
              "      <th>JAN</th>\n",
              "      <th>FEB</th>\n",
              "      <th>MAR</th>\n",
              "      <th>APR</th>\n",
              "      <th>MAY</th>\n",
              "      <th>JUN</th>\n",
              "      <th>JUL</th>\n",
              "      <th>AUG</th>\n",
              "      <th>SEP</th>\n",
              "      <th>OCT</th>\n",
              "      <th>NOV</th>\n",
              "      <th>DEC</th>\n",
              "      <th>ANNUAL RAINFALL</th>\n",
              "    </tr>\n",
              "  </thead>\n",
              "  <tbody>\n",
              "    <tr>\n",
              "      <th>YEAR</th>\n",
              "      <td>1170.166667</td>\n",
              "      <td>-119.378632</td>\n",
              "      <td>2.176923</td>\n",
              "      <td>-13.207265</td>\n",
              "      <td>132.625641</td>\n",
              "      <td>-301.126068</td>\n",
              "      <td>-1114.149145</td>\n",
              "      <td>-1749.953846</td>\n",
              "      <td>274.983761</td>\n",
              "      <td>448.915812</td>\n",
              "      <td>-96.876496</td>\n",
              "      <td>-370.360256</td>\n",
              "      <td>-155.123504</td>\n",
              "      <td>-3063.344444</td>\n",
              "    </tr>\n",
              "    <tr>\n",
              "      <th>JAN</th>\n",
              "      <td>-119.378632</td>\n",
              "      <td>239.437427</td>\n",
              "      <td>4.979192</td>\n",
              "      <td>36.577053</td>\n",
              "      <td>24.039512</td>\n",
              "      <td>163.062403</td>\n",
              "      <td>545.574281</td>\n",
              "      <td>121.970900</td>\n",
              "      <td>24.434163</td>\n",
              "      <td>-214.094844</td>\n",
              "      <td>-50.812451</td>\n",
              "      <td>-14.205421</td>\n",
              "      <td>-50.968209</td>\n",
              "      <td>830.154092</td>\n",
              "    </tr>\n",
              "    <tr>\n",
              "      <th>FEB</th>\n",
              "      <td>2.176923</td>\n",
              "      <td>4.979192</td>\n",
              "      <td>269.166362</td>\n",
              "      <td>121.027766</td>\n",
              "      <td>90.585966</td>\n",
              "      <td>-202.129655</td>\n",
              "      <td>165.293580</td>\n",
              "      <td>21.748364</td>\n",
              "      <td>69.442838</td>\n",
              "      <td>132.629654</td>\n",
              "      <td>81.684355</td>\n",
              "      <td>-222.332684</td>\n",
              "      <td>-76.434079</td>\n",
              "      <td>455.913330</td>\n",
              "    </tr>\n",
              "    <tr>\n",
              "      <th>MAR</th>\n",
              "      <td>-13.207265</td>\n",
              "      <td>36.577053</td>\n",
              "      <td>121.027766</td>\n",
              "      <td>903.835779</td>\n",
              "      <td>99.315784</td>\n",
              "      <td>-456.721990</td>\n",
              "      <td>106.348567</td>\n",
              "      <td>126.186249</td>\n",
              "      <td>232.033874</td>\n",
              "      <td>527.184758</td>\n",
              "      <td>-64.980285</td>\n",
              "      <td>-81.573089</td>\n",
              "      <td>28.990108</td>\n",
              "      <td>1578.305793</td>\n",
              "    </tr>\n",
              "    <tr>\n",
              "      <th>APR</th>\n",
              "      <td>132.625641</td>\n",
              "      <td>24.039512</td>\n",
              "      <td>90.585966</td>\n",
              "      <td>99.315784</td>\n",
              "      <td>1992.145044</td>\n",
              "      <td>-754.490185</td>\n",
              "      <td>606.540393</td>\n",
              "      <td>153.070058</td>\n",
              "      <td>-388.591540</td>\n",
              "      <td>70.336859</td>\n",
              "      <td>473.330962</td>\n",
              "      <td>82.464276</td>\n",
              "      <td>-180.710372</td>\n",
              "      <td>2267.590185</td>\n",
              "    </tr>\n",
              "    <tr>\n",
              "      <th>MAY</th>\n",
              "      <td>-301.126068</td>\n",
              "      <td>163.062403</td>\n",
              "      <td>-202.129655</td>\n",
              "      <td>-456.721990</td>\n",
              "      <td>-754.490185</td>\n",
              "      <td>21770.641812</td>\n",
              "      <td>33.929279</td>\n",
              "      <td>-1571.703571</td>\n",
              "      <td>-3340.586652</td>\n",
              "      <td>2101.892304</td>\n",
              "      <td>2725.149056</td>\n",
              "      <td>1165.417193</td>\n",
              "      <td>-638.978371</td>\n",
              "      <td>20997.420795</td>\n",
              "    </tr>\n",
              "    <tr>\n",
              "      <th>JUN</th>\n",
              "      <td>-1114.149145</td>\n",
              "      <td>545.574281</td>\n",
              "      <td>165.293580</td>\n",
              "      <td>106.348567</td>\n",
              "      <td>606.540393</td>\n",
              "      <td>33.929279</td>\n",
              "      <td>34663.499937</td>\n",
              "      <td>4047.567071</td>\n",
              "      <td>-492.944239</td>\n",
              "      <td>-1194.576633</td>\n",
              "      <td>20.161145</td>\n",
              "      <td>247.329460</td>\n",
              "      <td>-581.699654</td>\n",
              "      <td>38170.332986</td>\n",
              "    </tr>\n",
              "    <tr>\n",
              "      <th>JUL</th>\n",
              "      <td>-1749.953846</td>\n",
              "      <td>121.970900</td>\n",
              "      <td>21.748364</td>\n",
              "      <td>126.186249</td>\n",
              "      <td>153.070058</td>\n",
              "      <td>-1571.703571</td>\n",
              "      <td>4047.567071</td>\n",
              "      <td>52435.946420</td>\n",
              "      <td>6436.876865</td>\n",
              "      <td>5846.347194</td>\n",
              "      <td>541.214459</td>\n",
              "      <td>-543.479371</td>\n",
              "      <td>-113.988396</td>\n",
              "      <td>67508.201520</td>\n",
              "    </tr>\n",
              "    <tr>\n",
              "      <th>AUG</th>\n",
              "      <td>274.983761</td>\n",
              "      <td>24.434163</td>\n",
              "      <td>69.442838</td>\n",
              "      <td>232.033874</td>\n",
              "      <td>-388.591540</td>\n",
              "      <td>-3340.586652</td>\n",
              "      <td>-492.944239</td>\n",
              "      <td>6436.876865</td>\n",
              "      <td>33116.888805</td>\n",
              "      <td>2178.762799</td>\n",
              "      <td>-3094.959423</td>\n",
              "      <td>-1706.808293</td>\n",
              "      <td>948.365073</td>\n",
              "      <td>33987.052721</td>\n",
              "    </tr>\n",
              "    <tr>\n",
              "      <th>SEP</th>\n",
              "      <td>448.915812</td>\n",
              "      <td>-214.094844</td>\n",
              "      <td>132.629654</td>\n",
              "      <td>527.184758</td>\n",
              "      <td>70.336859</td>\n",
              "      <td>2101.892304</td>\n",
              "      <td>-1194.576633</td>\n",
              "      <td>5846.347194</td>\n",
              "      <td>2178.762799</td>\n",
              "      <td>14859.885839</td>\n",
              "      <td>-369.500828</td>\n",
              "      <td>-280.077350</td>\n",
              "      <td>-49.210243</td>\n",
              "      <td>23610.285602</td>\n",
              "    </tr>\n",
              "    <tr>\n",
              "      <th>OCT</th>\n",
              "      <td>-96.876496</td>\n",
              "      <td>-50.812451</td>\n",
              "      <td>81.684355</td>\n",
              "      <td>-64.980285</td>\n",
              "      <td>473.330962</td>\n",
              "      <td>2725.149056</td>\n",
              "      <td>20.161145</td>\n",
              "      <td>541.214459</td>\n",
              "      <td>-3094.959423</td>\n",
              "      <td>-369.500828</td>\n",
              "      <td>8780.674386</td>\n",
              "      <td>-187.580256</td>\n",
              "      <td>-134.262978</td>\n",
              "      <td>8722.467910</td>\n",
              "    </tr>\n",
              "    <tr>\n",
              "      <th>NOV</th>\n",
              "      <td>-370.360256</td>\n",
              "      <td>-14.205421</td>\n",
              "      <td>-222.332684</td>\n",
              "      <td>-81.573089</td>\n",
              "      <td>82.464276</td>\n",
              "      <td>1165.417193</td>\n",
              "      <td>247.329460</td>\n",
              "      <td>-543.479371</td>\n",
              "      <td>-1706.808293</td>\n",
              "      <td>-280.077350</td>\n",
              "      <td>-187.580256</td>\n",
              "      <td>6922.320647</td>\n",
              "      <td>215.801948</td>\n",
              "      <td>5597.319516</td>\n",
              "    </tr>\n",
              "    <tr>\n",
              "      <th>DEC</th>\n",
              "      <td>-155.123504</td>\n",
              "      <td>-50.968209</td>\n",
              "      <td>-76.434079</td>\n",
              "      <td>28.990108</td>\n",
              "      <td>-180.710372</td>\n",
              "      <td>-638.978371</td>\n",
              "      <td>-581.699654</td>\n",
              "      <td>-113.988396</td>\n",
              "      <td>948.365073</td>\n",
              "      <td>-49.210243</td>\n",
              "      <td>-134.262978</td>\n",
              "      <td>215.801948</td>\n",
              "      <td>1345.153160</td>\n",
              "      <td>712.560721</td>\n",
              "    </tr>\n",
              "    <tr>\n",
              "      <th>ANNUAL RAINFALL</th>\n",
              "      <td>-3063.344444</td>\n",
              "      <td>830.154092</td>\n",
              "      <td>455.913330</td>\n",
              "      <td>1578.305793</td>\n",
              "      <td>2267.590185</td>\n",
              "      <td>20997.420795</td>\n",
              "      <td>38170.332986</td>\n",
              "      <td>67508.201520</td>\n",
              "      <td>33987.052721</td>\n",
              "      <td>23610.285602</td>\n",
              "      <td>8722.467910</td>\n",
              "      <td>5597.319516</td>\n",
              "      <td>712.560721</td>\n",
              "      <td>204457.172453</td>\n",
              "    </tr>\n",
              "  </tbody>\n",
              "</table>\n",
              "</div>\n",
              "      <button class=\"colab-df-convert\" onclick=\"convertToInteractive('df-f5a50cf9-3bdf-456d-8540-5636153550f2')\"\n",
              "              title=\"Convert this dataframe to an interactive table.\"\n",
              "              style=\"display:none;\">\n",
              "        \n",
              "  <svg xmlns=\"http://www.w3.org/2000/svg\" height=\"24px\"viewBox=\"0 0 24 24\"\n",
              "       width=\"24px\">\n",
              "    <path d=\"M0 0h24v24H0V0z\" fill=\"none\"/>\n",
              "    <path d=\"M18.56 5.44l.94 2.06.94-2.06 2.06-.94-2.06-.94-.94-2.06-.94 2.06-2.06.94zm-11 1L8.5 8.5l.94-2.06 2.06-.94-2.06-.94L8.5 2.5l-.94 2.06-2.06.94zm10 10l.94 2.06.94-2.06 2.06-.94-2.06-.94-.94-2.06-.94 2.06-2.06.94z\"/><path d=\"M17.41 7.96l-1.37-1.37c-.4-.4-.92-.59-1.43-.59-.52 0-1.04.2-1.43.59L10.3 9.45l-7.72 7.72c-.78.78-.78 2.05 0 2.83L4 21.41c.39.39.9.59 1.41.59.51 0 1.02-.2 1.41-.59l7.78-7.78 2.81-2.81c.8-.78.8-2.07 0-2.86zM5.41 20L4 18.59l7.72-7.72 1.47 1.35L5.41 20z\"/>\n",
              "  </svg>\n",
              "      </button>\n",
              "      \n",
              "  <style>\n",
              "    .colab-df-container {\n",
              "      display:flex;\n",
              "      flex-wrap:wrap;\n",
              "      gap: 12px;\n",
              "    }\n",
              "\n",
              "    .colab-df-convert {\n",
              "      background-color: #E8F0FE;\n",
              "      border: none;\n",
              "      border-radius: 50%;\n",
              "      cursor: pointer;\n",
              "      display: none;\n",
              "      fill: #1967D2;\n",
              "      height: 32px;\n",
              "      padding: 0 0 0 0;\n",
              "      width: 32px;\n",
              "    }\n",
              "\n",
              "    .colab-df-convert:hover {\n",
              "      background-color: #E2EBFA;\n",
              "      box-shadow: 0px 1px 2px rgba(60, 64, 67, 0.3), 0px 1px 3px 1px rgba(60, 64, 67, 0.15);\n",
              "      fill: #174EA6;\n",
              "    }\n",
              "\n",
              "    [theme=dark] .colab-df-convert {\n",
              "      background-color: #3B4455;\n",
              "      fill: #D2E3FC;\n",
              "    }\n",
              "\n",
              "    [theme=dark] .colab-df-convert:hover {\n",
              "      background-color: #434B5C;\n",
              "      box-shadow: 0px 1px 3px 1px rgba(0, 0, 0, 0.15);\n",
              "      filter: drop-shadow(0px 1px 2px rgba(0, 0, 0, 0.3));\n",
              "      fill: #FFFFFF;\n",
              "    }\n",
              "  </style>\n",
              "\n",
              "      <script>\n",
              "        const buttonEl =\n",
              "          document.querySelector('#df-f5a50cf9-3bdf-456d-8540-5636153550f2 button.colab-df-convert');\n",
              "        buttonEl.style.display =\n",
              "          google.colab.kernel.accessAllowed ? 'block' : 'none';\n",
              "\n",
              "        async function convertToInteractive(key) {\n",
              "          const element = document.querySelector('#df-f5a50cf9-3bdf-456d-8540-5636153550f2');\n",
              "          const dataTable =\n",
              "            await google.colab.kernel.invokeFunction('convertToInteractive',\n",
              "                                                     [key], {});\n",
              "          if (!dataTable) return;\n",
              "\n",
              "          const docLinkHtml = 'Like what you see? Visit the ' +\n",
              "            '<a target=\"_blank\" href=https://colab.research.google.com/notebooks/data_table.ipynb>data table notebook</a>'\n",
              "            + ' to learn more about interactive tables.';\n",
              "          element.innerHTML = '';\n",
              "          dataTable['output_type'] = 'display_data';\n",
              "          await google.colab.output.renderOutput(dataTable, element);\n",
              "          const docLink = document.createElement('div');\n",
              "          docLink.innerHTML = docLinkHtml;\n",
              "          element.appendChild(docLink);\n",
              "        }\n",
              "      </script>\n",
              "    </div>\n",
              "  </div>\n",
              "  "
            ]
          },
          "metadata": {},
          "execution_count": 128
        }
      ],
      "source": [
        "data.cov()"
      ]
    },
    {
      "cell_type": "code",
      "execution_count": null,
      "metadata": {
        "id": "ihygqG4md0lZ",
        "colab": {
          "base_uri": "https://localhost:8080/",
          "height": 567
        },
        "outputId": "bc884e36-759d-4926-9bd4-d1186e930569"
      },
      "outputs": [
        {
          "output_type": "execute_result",
          "data": {
            "text/plain": [
              "                      YEAR       JAN       FEB       MAR       APR       MAY  \\\n",
              "YEAR              1.000000 -0.225531  0.003879 -0.012842  0.086865 -0.059661   \n",
              "JAN              -0.225531  1.000000  0.019613  0.078626  0.034807  0.071420   \n",
              "FEB               0.003879  0.019613  1.000000  0.245375  0.123706 -0.083500   \n",
              "MAR              -0.012842  0.078626  0.245375  1.000000  0.074014 -0.102961   \n",
              "APR               0.086865  0.034807  0.123706  0.074014  1.000000 -0.114566   \n",
              "MAY              -0.059661  0.071420 -0.083500 -0.102961 -0.114566  1.000000   \n",
              "JUN              -0.174938  0.189375  0.054114  0.019000  0.072990  0.001235   \n",
              "JUL              -0.223403  0.034423  0.005789  0.018330  0.014977 -0.046518   \n",
              "AUG               0.044173  0.008677  0.023259  0.042411 -0.047842 -0.124412   \n",
              "SEP               0.107655 -0.113502  0.066317  0.143850  0.012928  0.116860   \n",
              "OCT              -0.030223 -0.035044  0.053133 -0.023066  0.113172  0.197102   \n",
              "NOV              -0.130129 -0.011034 -0.162880 -0.032612  0.022206  0.094934   \n",
              "DEC              -0.123643 -0.089809 -0.127025  0.026292 -0.110392 -0.118077   \n",
              " ANNUAL RAINFALL -0.198048  0.118648  0.061457  0.116103  0.112358  0.314723   \n",
              "\n",
              "                       JUN       JUL       AUG       SEP       OCT       NOV  \\\n",
              "YEAR             -0.174938 -0.223403  0.044173  0.107655 -0.030223 -0.130129   \n",
              "JAN               0.189375  0.034423  0.008677 -0.113502 -0.035044 -0.011034   \n",
              "FEB               0.054114  0.005789  0.023259  0.066317  0.053133 -0.162880   \n",
              "MAR               0.019000  0.018330  0.042411  0.143850 -0.023066 -0.032612   \n",
              "APR               0.072990  0.014977 -0.047842  0.012928  0.113172  0.022206   \n",
              "MAY               0.001235 -0.046518 -0.124412  0.116860  0.197102  0.094934   \n",
              "JUN               1.000000  0.094939 -0.014549 -0.052634  0.001156  0.015967   \n",
              "JUL               0.094939  1.000000  0.154467  0.209441  0.025223 -0.028526   \n",
              "AUG              -0.014549  0.154467  1.000000  0.098215 -0.181496 -0.112729   \n",
              "SEP              -0.052634  0.209441  0.098215  1.000000 -0.032348 -0.027615   \n",
              "OCT               0.001156  0.025223 -0.181496 -0.032348  1.000000 -0.024060   \n",
              "NOV               0.015967 -0.028526 -0.112729 -0.027615 -0.024060  1.000000   \n",
              "DEC              -0.085188 -0.013573  0.142090 -0.011007 -0.039067  0.070720   \n",
              " ANNUAL RAINFALL  0.453407  0.651990  0.413036  0.428344  0.205861  0.148783   \n",
              "\n",
              "                       DEC   ANNUAL RAINFALL  \n",
              "YEAR             -0.123643         -0.198048  \n",
              "JAN              -0.089809          0.118648  \n",
              "FEB              -0.127025          0.061457  \n",
              "MAR               0.026292          0.116103  \n",
              "APR              -0.110392          0.112358  \n",
              "MAY              -0.118077          0.314723  \n",
              "JUN              -0.085188          0.453407  \n",
              "JUL              -0.013573          0.651990  \n",
              "AUG               0.142090          0.413036  \n",
              "SEP              -0.011007          0.428344  \n",
              "OCT              -0.039067          0.205861  \n",
              "NOV               0.070720          0.148783  \n",
              "DEC               1.000000          0.042967  \n",
              " ANNUAL RAINFALL  0.042967          1.000000  "
            ],
            "text/html": [
              "\n",
              "  <div id=\"df-046b8874-de06-4206-80bc-5b89ba281a8c\">\n",
              "    <div class=\"colab-df-container\">\n",
              "      <div>\n",
              "<style scoped>\n",
              "    .dataframe tbody tr th:only-of-type {\n",
              "        vertical-align: middle;\n",
              "    }\n",
              "\n",
              "    .dataframe tbody tr th {\n",
              "        vertical-align: top;\n",
              "    }\n",
              "\n",
              "    .dataframe thead th {\n",
              "        text-align: right;\n",
              "    }\n",
              "</style>\n",
              "<table border=\"1\" class=\"dataframe\">\n",
              "  <thead>\n",
              "    <tr style=\"text-align: right;\">\n",
              "      <th></th>\n",
              "      <th>YEAR</th>\n",
              "      <th>JAN</th>\n",
              "      <th>FEB</th>\n",
              "      <th>MAR</th>\n",
              "      <th>APR</th>\n",
              "      <th>MAY</th>\n",
              "      <th>JUN</th>\n",
              "      <th>JUL</th>\n",
              "      <th>AUG</th>\n",
              "      <th>SEP</th>\n",
              "      <th>OCT</th>\n",
              "      <th>NOV</th>\n",
              "      <th>DEC</th>\n",
              "      <th>ANNUAL RAINFALL</th>\n",
              "    </tr>\n",
              "  </thead>\n",
              "  <tbody>\n",
              "    <tr>\n",
              "      <th>YEAR</th>\n",
              "      <td>1.000000</td>\n",
              "      <td>-0.225531</td>\n",
              "      <td>0.003879</td>\n",
              "      <td>-0.012842</td>\n",
              "      <td>0.086865</td>\n",
              "      <td>-0.059661</td>\n",
              "      <td>-0.174938</td>\n",
              "      <td>-0.223403</td>\n",
              "      <td>0.044173</td>\n",
              "      <td>0.107655</td>\n",
              "      <td>-0.030223</td>\n",
              "      <td>-0.130129</td>\n",
              "      <td>-0.123643</td>\n",
              "      <td>-0.198048</td>\n",
              "    </tr>\n",
              "    <tr>\n",
              "      <th>JAN</th>\n",
              "      <td>-0.225531</td>\n",
              "      <td>1.000000</td>\n",
              "      <td>0.019613</td>\n",
              "      <td>0.078626</td>\n",
              "      <td>0.034807</td>\n",
              "      <td>0.071420</td>\n",
              "      <td>0.189375</td>\n",
              "      <td>0.034423</td>\n",
              "      <td>0.008677</td>\n",
              "      <td>-0.113502</td>\n",
              "      <td>-0.035044</td>\n",
              "      <td>-0.011034</td>\n",
              "      <td>-0.089809</td>\n",
              "      <td>0.118648</td>\n",
              "    </tr>\n",
              "    <tr>\n",
              "      <th>FEB</th>\n",
              "      <td>0.003879</td>\n",
              "      <td>0.019613</td>\n",
              "      <td>1.000000</td>\n",
              "      <td>0.245375</td>\n",
              "      <td>0.123706</td>\n",
              "      <td>-0.083500</td>\n",
              "      <td>0.054114</td>\n",
              "      <td>0.005789</td>\n",
              "      <td>0.023259</td>\n",
              "      <td>0.066317</td>\n",
              "      <td>0.053133</td>\n",
              "      <td>-0.162880</td>\n",
              "      <td>-0.127025</td>\n",
              "      <td>0.061457</td>\n",
              "    </tr>\n",
              "    <tr>\n",
              "      <th>MAR</th>\n",
              "      <td>-0.012842</td>\n",
              "      <td>0.078626</td>\n",
              "      <td>0.245375</td>\n",
              "      <td>1.000000</td>\n",
              "      <td>0.074014</td>\n",
              "      <td>-0.102961</td>\n",
              "      <td>0.019000</td>\n",
              "      <td>0.018330</td>\n",
              "      <td>0.042411</td>\n",
              "      <td>0.143850</td>\n",
              "      <td>-0.023066</td>\n",
              "      <td>-0.032612</td>\n",
              "      <td>0.026292</td>\n",
              "      <td>0.116103</td>\n",
              "    </tr>\n",
              "    <tr>\n",
              "      <th>APR</th>\n",
              "      <td>0.086865</td>\n",
              "      <td>0.034807</td>\n",
              "      <td>0.123706</td>\n",
              "      <td>0.074014</td>\n",
              "      <td>1.000000</td>\n",
              "      <td>-0.114566</td>\n",
              "      <td>0.072990</td>\n",
              "      <td>0.014977</td>\n",
              "      <td>-0.047842</td>\n",
              "      <td>0.012928</td>\n",
              "      <td>0.113172</td>\n",
              "      <td>0.022206</td>\n",
              "      <td>-0.110392</td>\n",
              "      <td>0.112358</td>\n",
              "    </tr>\n",
              "    <tr>\n",
              "      <th>MAY</th>\n",
              "      <td>-0.059661</td>\n",
              "      <td>0.071420</td>\n",
              "      <td>-0.083500</td>\n",
              "      <td>-0.102961</td>\n",
              "      <td>-0.114566</td>\n",
              "      <td>1.000000</td>\n",
              "      <td>0.001235</td>\n",
              "      <td>-0.046518</td>\n",
              "      <td>-0.124412</td>\n",
              "      <td>0.116860</td>\n",
              "      <td>0.197102</td>\n",
              "      <td>0.094934</td>\n",
              "      <td>-0.118077</td>\n",
              "      <td>0.314723</td>\n",
              "    </tr>\n",
              "    <tr>\n",
              "      <th>JUN</th>\n",
              "      <td>-0.174938</td>\n",
              "      <td>0.189375</td>\n",
              "      <td>0.054114</td>\n",
              "      <td>0.019000</td>\n",
              "      <td>0.072990</td>\n",
              "      <td>0.001235</td>\n",
              "      <td>1.000000</td>\n",
              "      <td>0.094939</td>\n",
              "      <td>-0.014549</td>\n",
              "      <td>-0.052634</td>\n",
              "      <td>0.001156</td>\n",
              "      <td>0.015967</td>\n",
              "      <td>-0.085188</td>\n",
              "      <td>0.453407</td>\n",
              "    </tr>\n",
              "    <tr>\n",
              "      <th>JUL</th>\n",
              "      <td>-0.223403</td>\n",
              "      <td>0.034423</td>\n",
              "      <td>0.005789</td>\n",
              "      <td>0.018330</td>\n",
              "      <td>0.014977</td>\n",
              "      <td>-0.046518</td>\n",
              "      <td>0.094939</td>\n",
              "      <td>1.000000</td>\n",
              "      <td>0.154467</td>\n",
              "      <td>0.209441</td>\n",
              "      <td>0.025223</td>\n",
              "      <td>-0.028526</td>\n",
              "      <td>-0.013573</td>\n",
              "      <td>0.651990</td>\n",
              "    </tr>\n",
              "    <tr>\n",
              "      <th>AUG</th>\n",
              "      <td>0.044173</td>\n",
              "      <td>0.008677</td>\n",
              "      <td>0.023259</td>\n",
              "      <td>0.042411</td>\n",
              "      <td>-0.047842</td>\n",
              "      <td>-0.124412</td>\n",
              "      <td>-0.014549</td>\n",
              "      <td>0.154467</td>\n",
              "      <td>1.000000</td>\n",
              "      <td>0.098215</td>\n",
              "      <td>-0.181496</td>\n",
              "      <td>-0.112729</td>\n",
              "      <td>0.142090</td>\n",
              "      <td>0.413036</td>\n",
              "    </tr>\n",
              "    <tr>\n",
              "      <th>SEP</th>\n",
              "      <td>0.107655</td>\n",
              "      <td>-0.113502</td>\n",
              "      <td>0.066317</td>\n",
              "      <td>0.143850</td>\n",
              "      <td>0.012928</td>\n",
              "      <td>0.116860</td>\n",
              "      <td>-0.052634</td>\n",
              "      <td>0.209441</td>\n",
              "      <td>0.098215</td>\n",
              "      <td>1.000000</td>\n",
              "      <td>-0.032348</td>\n",
              "      <td>-0.027615</td>\n",
              "      <td>-0.011007</td>\n",
              "      <td>0.428344</td>\n",
              "    </tr>\n",
              "    <tr>\n",
              "      <th>OCT</th>\n",
              "      <td>-0.030223</td>\n",
              "      <td>-0.035044</td>\n",
              "      <td>0.053133</td>\n",
              "      <td>-0.023066</td>\n",
              "      <td>0.113172</td>\n",
              "      <td>0.197102</td>\n",
              "      <td>0.001156</td>\n",
              "      <td>0.025223</td>\n",
              "      <td>-0.181496</td>\n",
              "      <td>-0.032348</td>\n",
              "      <td>1.000000</td>\n",
              "      <td>-0.024060</td>\n",
              "      <td>-0.039067</td>\n",
              "      <td>0.205861</td>\n",
              "    </tr>\n",
              "    <tr>\n",
              "      <th>NOV</th>\n",
              "      <td>-0.130129</td>\n",
              "      <td>-0.011034</td>\n",
              "      <td>-0.162880</td>\n",
              "      <td>-0.032612</td>\n",
              "      <td>0.022206</td>\n",
              "      <td>0.094934</td>\n",
              "      <td>0.015967</td>\n",
              "      <td>-0.028526</td>\n",
              "      <td>-0.112729</td>\n",
              "      <td>-0.027615</td>\n",
              "      <td>-0.024060</td>\n",
              "      <td>1.000000</td>\n",
              "      <td>0.070720</td>\n",
              "      <td>0.148783</td>\n",
              "    </tr>\n",
              "    <tr>\n",
              "      <th>DEC</th>\n",
              "      <td>-0.123643</td>\n",
              "      <td>-0.089809</td>\n",
              "      <td>-0.127025</td>\n",
              "      <td>0.026292</td>\n",
              "      <td>-0.110392</td>\n",
              "      <td>-0.118077</td>\n",
              "      <td>-0.085188</td>\n",
              "      <td>-0.013573</td>\n",
              "      <td>0.142090</td>\n",
              "      <td>-0.011007</td>\n",
              "      <td>-0.039067</td>\n",
              "      <td>0.070720</td>\n",
              "      <td>1.000000</td>\n",
              "      <td>0.042967</td>\n",
              "    </tr>\n",
              "    <tr>\n",
              "      <th>ANNUAL RAINFALL</th>\n",
              "      <td>-0.198048</td>\n",
              "      <td>0.118648</td>\n",
              "      <td>0.061457</td>\n",
              "      <td>0.116103</td>\n",
              "      <td>0.112358</td>\n",
              "      <td>0.314723</td>\n",
              "      <td>0.453407</td>\n",
              "      <td>0.651990</td>\n",
              "      <td>0.413036</td>\n",
              "      <td>0.428344</td>\n",
              "      <td>0.205861</td>\n",
              "      <td>0.148783</td>\n",
              "      <td>0.042967</td>\n",
              "      <td>1.000000</td>\n",
              "    </tr>\n",
              "  </tbody>\n",
              "</table>\n",
              "</div>\n",
              "      <button class=\"colab-df-convert\" onclick=\"convertToInteractive('df-046b8874-de06-4206-80bc-5b89ba281a8c')\"\n",
              "              title=\"Convert this dataframe to an interactive table.\"\n",
              "              style=\"display:none;\">\n",
              "        \n",
              "  <svg xmlns=\"http://www.w3.org/2000/svg\" height=\"24px\"viewBox=\"0 0 24 24\"\n",
              "       width=\"24px\">\n",
              "    <path d=\"M0 0h24v24H0V0z\" fill=\"none\"/>\n",
              "    <path d=\"M18.56 5.44l.94 2.06.94-2.06 2.06-.94-2.06-.94-.94-2.06-.94 2.06-2.06.94zm-11 1L8.5 8.5l.94-2.06 2.06-.94-2.06-.94L8.5 2.5l-.94 2.06-2.06.94zm10 10l.94 2.06.94-2.06 2.06-.94-2.06-.94-.94-2.06-.94 2.06-2.06.94z\"/><path d=\"M17.41 7.96l-1.37-1.37c-.4-.4-.92-.59-1.43-.59-.52 0-1.04.2-1.43.59L10.3 9.45l-7.72 7.72c-.78.78-.78 2.05 0 2.83L4 21.41c.39.39.9.59 1.41.59.51 0 1.02-.2 1.41-.59l7.78-7.78 2.81-2.81c.8-.78.8-2.07 0-2.86zM5.41 20L4 18.59l7.72-7.72 1.47 1.35L5.41 20z\"/>\n",
              "  </svg>\n",
              "      </button>\n",
              "      \n",
              "  <style>\n",
              "    .colab-df-container {\n",
              "      display:flex;\n",
              "      flex-wrap:wrap;\n",
              "      gap: 12px;\n",
              "    }\n",
              "\n",
              "    .colab-df-convert {\n",
              "      background-color: #E8F0FE;\n",
              "      border: none;\n",
              "      border-radius: 50%;\n",
              "      cursor: pointer;\n",
              "      display: none;\n",
              "      fill: #1967D2;\n",
              "      height: 32px;\n",
              "      padding: 0 0 0 0;\n",
              "      width: 32px;\n",
              "    }\n",
              "\n",
              "    .colab-df-convert:hover {\n",
              "      background-color: #E2EBFA;\n",
              "      box-shadow: 0px 1px 2px rgba(60, 64, 67, 0.3), 0px 1px 3px 1px rgba(60, 64, 67, 0.15);\n",
              "      fill: #174EA6;\n",
              "    }\n",
              "\n",
              "    [theme=dark] .colab-df-convert {\n",
              "      background-color: #3B4455;\n",
              "      fill: #D2E3FC;\n",
              "    }\n",
              "\n",
              "    [theme=dark] .colab-df-convert:hover {\n",
              "      background-color: #434B5C;\n",
              "      box-shadow: 0px 1px 3px 1px rgba(0, 0, 0, 0.15);\n",
              "      filter: drop-shadow(0px 1px 2px rgba(0, 0, 0, 0.3));\n",
              "      fill: #FFFFFF;\n",
              "    }\n",
              "  </style>\n",
              "\n",
              "      <script>\n",
              "        const buttonEl =\n",
              "          document.querySelector('#df-046b8874-de06-4206-80bc-5b89ba281a8c button.colab-df-convert');\n",
              "        buttonEl.style.display =\n",
              "          google.colab.kernel.accessAllowed ? 'block' : 'none';\n",
              "\n",
              "        async function convertToInteractive(key) {\n",
              "          const element = document.querySelector('#df-046b8874-de06-4206-80bc-5b89ba281a8c');\n",
              "          const dataTable =\n",
              "            await google.colab.kernel.invokeFunction('convertToInteractive',\n",
              "                                                     [key], {});\n",
              "          if (!dataTable) return;\n",
              "\n",
              "          const docLinkHtml = 'Like what you see? Visit the ' +\n",
              "            '<a target=\"_blank\" href=https://colab.research.google.com/notebooks/data_table.ipynb>data table notebook</a>'\n",
              "            + ' to learn more about interactive tables.';\n",
              "          element.innerHTML = '';\n",
              "          dataTable['output_type'] = 'display_data';\n",
              "          await google.colab.output.renderOutput(dataTable, element);\n",
              "          const docLink = document.createElement('div');\n",
              "          docLink.innerHTML = docLinkHtml;\n",
              "          element.appendChild(docLink);\n",
              "        }\n",
              "      </script>\n",
              "    </div>\n",
              "  </div>\n",
              "  "
            ]
          },
          "metadata": {},
          "execution_count": 129
        }
      ],
      "source": [
        "data.corr()"
      ]
    },
    {
      "cell_type": "code",
      "execution_count": null,
      "metadata": {
        "id": "yzoIHdbkd0la"
      },
      "outputs": [],
      "source": [
        "# replacing the yes/no in floods coloumn by 1/0\n",
        "data['FLOODS'].replace(['YES','NO'],[1,0],inplace=True)"
      ]
    },
    {
      "cell_type": "code",
      "execution_count": null,
      "metadata": {
        "id": "2DkG7hTdd0la",
        "colab": {
          "base_uri": "https://localhost:8080/",
          "height": 206
        },
        "outputId": "6b2a6d49-f584-4b98-9266-9653d7900c05"
      },
      "outputs": [
        {
          "output_type": "execute_result",
          "data": {
            "text/plain": [
              "  SUBDIVISION  YEAR   JAN   FEB   MAR    APR    MAY     JUN     JUL    AUG  \\\n",
              "0      KERALA  1901  28.7  44.7  51.6  160.0  174.7   824.6   743.0  357.5   \n",
              "1      KERALA  1902   6.7   2.6  57.3   83.9  134.5   390.9  1205.0  315.8   \n",
              "2      KERALA  1903   3.2  18.6   3.1   83.6  249.7   558.6  1022.5  420.2   \n",
              "3      KERALA  1904  23.7   3.0  32.2   71.5  235.7  1098.2   725.5  351.8   \n",
              "4      KERALA  1905   1.2  22.3   9.4  105.9  263.3   850.2   520.5  293.6   \n",
              "\n",
              "     SEP    OCT    NOV    DEC   ANNUAL RAINFALL  FLOODS  \n",
              "0  197.7  266.9  350.8   48.4            3248.6       1  \n",
              "1  491.6  358.4  158.3  121.5            3326.6       1  \n",
              "2  341.8  354.1  157.0   59.0            3271.2       1  \n",
              "3  222.7  328.1   33.9    3.3            3129.7       1  \n",
              "4  217.2  383.5   74.4    0.2            2741.6       0  "
            ],
            "text/html": [
              "\n",
              "  <div id=\"df-4c2ea905-3bb7-4527-992b-bbeb96c743e1\">\n",
              "    <div class=\"colab-df-container\">\n",
              "      <div>\n",
              "<style scoped>\n",
              "    .dataframe tbody tr th:only-of-type {\n",
              "        vertical-align: middle;\n",
              "    }\n",
              "\n",
              "    .dataframe tbody tr th {\n",
              "        vertical-align: top;\n",
              "    }\n",
              "\n",
              "    .dataframe thead th {\n",
              "        text-align: right;\n",
              "    }\n",
              "</style>\n",
              "<table border=\"1\" class=\"dataframe\">\n",
              "  <thead>\n",
              "    <tr style=\"text-align: right;\">\n",
              "      <th></th>\n",
              "      <th>SUBDIVISION</th>\n",
              "      <th>YEAR</th>\n",
              "      <th>JAN</th>\n",
              "      <th>FEB</th>\n",
              "      <th>MAR</th>\n",
              "      <th>APR</th>\n",
              "      <th>MAY</th>\n",
              "      <th>JUN</th>\n",
              "      <th>JUL</th>\n",
              "      <th>AUG</th>\n",
              "      <th>SEP</th>\n",
              "      <th>OCT</th>\n",
              "      <th>NOV</th>\n",
              "      <th>DEC</th>\n",
              "      <th>ANNUAL RAINFALL</th>\n",
              "      <th>FLOODS</th>\n",
              "    </tr>\n",
              "  </thead>\n",
              "  <tbody>\n",
              "    <tr>\n",
              "      <th>0</th>\n",
              "      <td>KERALA</td>\n",
              "      <td>1901</td>\n",
              "      <td>28.7</td>\n",
              "      <td>44.7</td>\n",
              "      <td>51.6</td>\n",
              "      <td>160.0</td>\n",
              "      <td>174.7</td>\n",
              "      <td>824.6</td>\n",
              "      <td>743.0</td>\n",
              "      <td>357.5</td>\n",
              "      <td>197.7</td>\n",
              "      <td>266.9</td>\n",
              "      <td>350.8</td>\n",
              "      <td>48.4</td>\n",
              "      <td>3248.6</td>\n",
              "      <td>1</td>\n",
              "    </tr>\n",
              "    <tr>\n",
              "      <th>1</th>\n",
              "      <td>KERALA</td>\n",
              "      <td>1902</td>\n",
              "      <td>6.7</td>\n",
              "      <td>2.6</td>\n",
              "      <td>57.3</td>\n",
              "      <td>83.9</td>\n",
              "      <td>134.5</td>\n",
              "      <td>390.9</td>\n",
              "      <td>1205.0</td>\n",
              "      <td>315.8</td>\n",
              "      <td>491.6</td>\n",
              "      <td>358.4</td>\n",
              "      <td>158.3</td>\n",
              "      <td>121.5</td>\n",
              "      <td>3326.6</td>\n",
              "      <td>1</td>\n",
              "    </tr>\n",
              "    <tr>\n",
              "      <th>2</th>\n",
              "      <td>KERALA</td>\n",
              "      <td>1903</td>\n",
              "      <td>3.2</td>\n",
              "      <td>18.6</td>\n",
              "      <td>3.1</td>\n",
              "      <td>83.6</td>\n",
              "      <td>249.7</td>\n",
              "      <td>558.6</td>\n",
              "      <td>1022.5</td>\n",
              "      <td>420.2</td>\n",
              "      <td>341.8</td>\n",
              "      <td>354.1</td>\n",
              "      <td>157.0</td>\n",
              "      <td>59.0</td>\n",
              "      <td>3271.2</td>\n",
              "      <td>1</td>\n",
              "    </tr>\n",
              "    <tr>\n",
              "      <th>3</th>\n",
              "      <td>KERALA</td>\n",
              "      <td>1904</td>\n",
              "      <td>23.7</td>\n",
              "      <td>3.0</td>\n",
              "      <td>32.2</td>\n",
              "      <td>71.5</td>\n",
              "      <td>235.7</td>\n",
              "      <td>1098.2</td>\n",
              "      <td>725.5</td>\n",
              "      <td>351.8</td>\n",
              "      <td>222.7</td>\n",
              "      <td>328.1</td>\n",
              "      <td>33.9</td>\n",
              "      <td>3.3</td>\n",
              "      <td>3129.7</td>\n",
              "      <td>1</td>\n",
              "    </tr>\n",
              "    <tr>\n",
              "      <th>4</th>\n",
              "      <td>KERALA</td>\n",
              "      <td>1905</td>\n",
              "      <td>1.2</td>\n",
              "      <td>22.3</td>\n",
              "      <td>9.4</td>\n",
              "      <td>105.9</td>\n",
              "      <td>263.3</td>\n",
              "      <td>850.2</td>\n",
              "      <td>520.5</td>\n",
              "      <td>293.6</td>\n",
              "      <td>217.2</td>\n",
              "      <td>383.5</td>\n",
              "      <td>74.4</td>\n",
              "      <td>0.2</td>\n",
              "      <td>2741.6</td>\n",
              "      <td>0</td>\n",
              "    </tr>\n",
              "  </tbody>\n",
              "</table>\n",
              "</div>\n",
              "      <button class=\"colab-df-convert\" onclick=\"convertToInteractive('df-4c2ea905-3bb7-4527-992b-bbeb96c743e1')\"\n",
              "              title=\"Convert this dataframe to an interactive table.\"\n",
              "              style=\"display:none;\">\n",
              "        \n",
              "  <svg xmlns=\"http://www.w3.org/2000/svg\" height=\"24px\"viewBox=\"0 0 24 24\"\n",
              "       width=\"24px\">\n",
              "    <path d=\"M0 0h24v24H0V0z\" fill=\"none\"/>\n",
              "    <path d=\"M18.56 5.44l.94 2.06.94-2.06 2.06-.94-2.06-.94-.94-2.06-.94 2.06-2.06.94zm-11 1L8.5 8.5l.94-2.06 2.06-.94-2.06-.94L8.5 2.5l-.94 2.06-2.06.94zm10 10l.94 2.06.94-2.06 2.06-.94-2.06-.94-.94-2.06-.94 2.06-2.06.94z\"/><path d=\"M17.41 7.96l-1.37-1.37c-.4-.4-.92-.59-1.43-.59-.52 0-1.04.2-1.43.59L10.3 9.45l-7.72 7.72c-.78.78-.78 2.05 0 2.83L4 21.41c.39.39.9.59 1.41.59.51 0 1.02-.2 1.41-.59l7.78-7.78 2.81-2.81c.8-.78.8-2.07 0-2.86zM5.41 20L4 18.59l7.72-7.72 1.47 1.35L5.41 20z\"/>\n",
              "  </svg>\n",
              "      </button>\n",
              "      \n",
              "  <style>\n",
              "    .colab-df-container {\n",
              "      display:flex;\n",
              "      flex-wrap:wrap;\n",
              "      gap: 12px;\n",
              "    }\n",
              "\n",
              "    .colab-df-convert {\n",
              "      background-color: #E8F0FE;\n",
              "      border: none;\n",
              "      border-radius: 50%;\n",
              "      cursor: pointer;\n",
              "      display: none;\n",
              "      fill: #1967D2;\n",
              "      height: 32px;\n",
              "      padding: 0 0 0 0;\n",
              "      width: 32px;\n",
              "    }\n",
              "\n",
              "    .colab-df-convert:hover {\n",
              "      background-color: #E2EBFA;\n",
              "      box-shadow: 0px 1px 2px rgba(60, 64, 67, 0.3), 0px 1px 3px 1px rgba(60, 64, 67, 0.15);\n",
              "      fill: #174EA6;\n",
              "    }\n",
              "\n",
              "    [theme=dark] .colab-df-convert {\n",
              "      background-color: #3B4455;\n",
              "      fill: #D2E3FC;\n",
              "    }\n",
              "\n",
              "    [theme=dark] .colab-df-convert:hover {\n",
              "      background-color: #434B5C;\n",
              "      box-shadow: 0px 1px 3px 1px rgba(0, 0, 0, 0.15);\n",
              "      filter: drop-shadow(0px 1px 2px rgba(0, 0, 0, 0.3));\n",
              "      fill: #FFFFFF;\n",
              "    }\n",
              "  </style>\n",
              "\n",
              "      <script>\n",
              "        const buttonEl =\n",
              "          document.querySelector('#df-4c2ea905-3bb7-4527-992b-bbeb96c743e1 button.colab-df-convert');\n",
              "        buttonEl.style.display =\n",
              "          google.colab.kernel.accessAllowed ? 'block' : 'none';\n",
              "\n",
              "        async function convertToInteractive(key) {\n",
              "          const element = document.querySelector('#df-4c2ea905-3bb7-4527-992b-bbeb96c743e1');\n",
              "          const dataTable =\n",
              "            await google.colab.kernel.invokeFunction('convertToInteractive',\n",
              "                                                     [key], {});\n",
              "          if (!dataTable) return;\n",
              "\n",
              "          const docLinkHtml = 'Like what you see? Visit the ' +\n",
              "            '<a target=\"_blank\" href=https://colab.research.google.com/notebooks/data_table.ipynb>data table notebook</a>'\n",
              "            + ' to learn more about interactive tables.';\n",
              "          element.innerHTML = '';\n",
              "          dataTable['output_type'] = 'display_data';\n",
              "          await google.colab.output.renderOutput(dataTable, element);\n",
              "          const docLink = document.createElement('div');\n",
              "          docLink.innerHTML = docLinkHtml;\n",
              "          element.appendChild(docLink);\n",
              "        }\n",
              "      </script>\n",
              "    </div>\n",
              "  </div>\n",
              "  "
            ]
          },
          "metadata": {},
          "execution_count": 131
        }
      ],
      "source": [
        "#Printing the clean data\n",
        "data.head()"
      ]
    },
    {
      "cell_type": "code",
      "execution_count": null,
      "metadata": {
        "id": "eOkXMq0Xd0lb",
        "colab": {
          "base_uri": "https://localhost:8080/",
          "height": 206
        },
        "outputId": "fff12d4d-0495-47eb-aeaa-1dce9c8aa95b"
      },
      "outputs": [
        {
          "output_type": "execute_result",
          "data": {
            "text/plain": [
              "   YEAR   JAN   FEB   MAR    APR    MAY     JUN     JUL    AUG    SEP    OCT  \\\n",
              "0  1901  28.7  44.7  51.6  160.0  174.7   824.6   743.0  357.5  197.7  266.9   \n",
              "1  1902   6.7   2.6  57.3   83.9  134.5   390.9  1205.0  315.8  491.6  358.4   \n",
              "2  1903   3.2  18.6   3.1   83.6  249.7   558.6  1022.5  420.2  341.8  354.1   \n",
              "3  1904  23.7   3.0  32.2   71.5  235.7  1098.2   725.5  351.8  222.7  328.1   \n",
              "4  1905   1.2  22.3   9.4  105.9  263.3   850.2   520.5  293.6  217.2  383.5   \n",
              "\n",
              "     NOV    DEC  \n",
              "0  350.8   48.4  \n",
              "1  158.3  121.5  \n",
              "2  157.0   59.0  \n",
              "3   33.9    3.3  \n",
              "4   74.4    0.2  "
            ],
            "text/html": [
              "\n",
              "  <div id=\"df-66f509d3-8734-4677-bdaa-45a2975902e8\">\n",
              "    <div class=\"colab-df-container\">\n",
              "      <div>\n",
              "<style scoped>\n",
              "    .dataframe tbody tr th:only-of-type {\n",
              "        vertical-align: middle;\n",
              "    }\n",
              "\n",
              "    .dataframe tbody tr th {\n",
              "        vertical-align: top;\n",
              "    }\n",
              "\n",
              "    .dataframe thead th {\n",
              "        text-align: right;\n",
              "    }\n",
              "</style>\n",
              "<table border=\"1\" class=\"dataframe\">\n",
              "  <thead>\n",
              "    <tr style=\"text-align: right;\">\n",
              "      <th></th>\n",
              "      <th>YEAR</th>\n",
              "      <th>JAN</th>\n",
              "      <th>FEB</th>\n",
              "      <th>MAR</th>\n",
              "      <th>APR</th>\n",
              "      <th>MAY</th>\n",
              "      <th>JUN</th>\n",
              "      <th>JUL</th>\n",
              "      <th>AUG</th>\n",
              "      <th>SEP</th>\n",
              "      <th>OCT</th>\n",
              "      <th>NOV</th>\n",
              "      <th>DEC</th>\n",
              "    </tr>\n",
              "  </thead>\n",
              "  <tbody>\n",
              "    <tr>\n",
              "      <th>0</th>\n",
              "      <td>1901</td>\n",
              "      <td>28.7</td>\n",
              "      <td>44.7</td>\n",
              "      <td>51.6</td>\n",
              "      <td>160.0</td>\n",
              "      <td>174.7</td>\n",
              "      <td>824.6</td>\n",
              "      <td>743.0</td>\n",
              "      <td>357.5</td>\n",
              "      <td>197.7</td>\n",
              "      <td>266.9</td>\n",
              "      <td>350.8</td>\n",
              "      <td>48.4</td>\n",
              "    </tr>\n",
              "    <tr>\n",
              "      <th>1</th>\n",
              "      <td>1902</td>\n",
              "      <td>6.7</td>\n",
              "      <td>2.6</td>\n",
              "      <td>57.3</td>\n",
              "      <td>83.9</td>\n",
              "      <td>134.5</td>\n",
              "      <td>390.9</td>\n",
              "      <td>1205.0</td>\n",
              "      <td>315.8</td>\n",
              "      <td>491.6</td>\n",
              "      <td>358.4</td>\n",
              "      <td>158.3</td>\n",
              "      <td>121.5</td>\n",
              "    </tr>\n",
              "    <tr>\n",
              "      <th>2</th>\n",
              "      <td>1903</td>\n",
              "      <td>3.2</td>\n",
              "      <td>18.6</td>\n",
              "      <td>3.1</td>\n",
              "      <td>83.6</td>\n",
              "      <td>249.7</td>\n",
              "      <td>558.6</td>\n",
              "      <td>1022.5</td>\n",
              "      <td>420.2</td>\n",
              "      <td>341.8</td>\n",
              "      <td>354.1</td>\n",
              "      <td>157.0</td>\n",
              "      <td>59.0</td>\n",
              "    </tr>\n",
              "    <tr>\n",
              "      <th>3</th>\n",
              "      <td>1904</td>\n",
              "      <td>23.7</td>\n",
              "      <td>3.0</td>\n",
              "      <td>32.2</td>\n",
              "      <td>71.5</td>\n",
              "      <td>235.7</td>\n",
              "      <td>1098.2</td>\n",
              "      <td>725.5</td>\n",
              "      <td>351.8</td>\n",
              "      <td>222.7</td>\n",
              "      <td>328.1</td>\n",
              "      <td>33.9</td>\n",
              "      <td>3.3</td>\n",
              "    </tr>\n",
              "    <tr>\n",
              "      <th>4</th>\n",
              "      <td>1905</td>\n",
              "      <td>1.2</td>\n",
              "      <td>22.3</td>\n",
              "      <td>9.4</td>\n",
              "      <td>105.9</td>\n",
              "      <td>263.3</td>\n",
              "      <td>850.2</td>\n",
              "      <td>520.5</td>\n",
              "      <td>293.6</td>\n",
              "      <td>217.2</td>\n",
              "      <td>383.5</td>\n",
              "      <td>74.4</td>\n",
              "      <td>0.2</td>\n",
              "    </tr>\n",
              "  </tbody>\n",
              "</table>\n",
              "</div>\n",
              "      <button class=\"colab-df-convert\" onclick=\"convertToInteractive('df-66f509d3-8734-4677-bdaa-45a2975902e8')\"\n",
              "              title=\"Convert this dataframe to an interactive table.\"\n",
              "              style=\"display:none;\">\n",
              "        \n",
              "  <svg xmlns=\"http://www.w3.org/2000/svg\" height=\"24px\"viewBox=\"0 0 24 24\"\n",
              "       width=\"24px\">\n",
              "    <path d=\"M0 0h24v24H0V0z\" fill=\"none\"/>\n",
              "    <path d=\"M18.56 5.44l.94 2.06.94-2.06 2.06-.94-2.06-.94-.94-2.06-.94 2.06-2.06.94zm-11 1L8.5 8.5l.94-2.06 2.06-.94-2.06-.94L8.5 2.5l-.94 2.06-2.06.94zm10 10l.94 2.06.94-2.06 2.06-.94-2.06-.94-.94-2.06-.94 2.06-2.06.94z\"/><path d=\"M17.41 7.96l-1.37-1.37c-.4-.4-.92-.59-1.43-.59-.52 0-1.04.2-1.43.59L10.3 9.45l-7.72 7.72c-.78.78-.78 2.05 0 2.83L4 21.41c.39.39.9.59 1.41.59.51 0 1.02-.2 1.41-.59l7.78-7.78 2.81-2.81c.8-.78.8-2.07 0-2.86zM5.41 20L4 18.59l7.72-7.72 1.47 1.35L5.41 20z\"/>\n",
              "  </svg>\n",
              "      </button>\n",
              "      \n",
              "  <style>\n",
              "    .colab-df-container {\n",
              "      display:flex;\n",
              "      flex-wrap:wrap;\n",
              "      gap: 12px;\n",
              "    }\n",
              "\n",
              "    .colab-df-convert {\n",
              "      background-color: #E8F0FE;\n",
              "      border: none;\n",
              "      border-radius: 50%;\n",
              "      cursor: pointer;\n",
              "      display: none;\n",
              "      fill: #1967D2;\n",
              "      height: 32px;\n",
              "      padding: 0 0 0 0;\n",
              "      width: 32px;\n",
              "    }\n",
              "\n",
              "    .colab-df-convert:hover {\n",
              "      background-color: #E2EBFA;\n",
              "      box-shadow: 0px 1px 2px rgba(60, 64, 67, 0.3), 0px 1px 3px 1px rgba(60, 64, 67, 0.15);\n",
              "      fill: #174EA6;\n",
              "    }\n",
              "\n",
              "    [theme=dark] .colab-df-convert {\n",
              "      background-color: #3B4455;\n",
              "      fill: #D2E3FC;\n",
              "    }\n",
              "\n",
              "    [theme=dark] .colab-df-convert:hover {\n",
              "      background-color: #434B5C;\n",
              "      box-shadow: 0px 1px 3px 1px rgba(0, 0, 0, 0.15);\n",
              "      filter: drop-shadow(0px 1px 2px rgba(0, 0, 0, 0.3));\n",
              "      fill: #FFFFFF;\n",
              "    }\n",
              "  </style>\n",
              "\n",
              "      <script>\n",
              "        const buttonEl =\n",
              "          document.querySelector('#df-66f509d3-8734-4677-bdaa-45a2975902e8 button.colab-df-convert');\n",
              "        buttonEl.style.display =\n",
              "          google.colab.kernel.accessAllowed ? 'block' : 'none';\n",
              "\n",
              "        async function convertToInteractive(key) {\n",
              "          const element = document.querySelector('#df-66f509d3-8734-4677-bdaa-45a2975902e8');\n",
              "          const dataTable =\n",
              "            await google.colab.kernel.invokeFunction('convertToInteractive',\n",
              "                                                     [key], {});\n",
              "          if (!dataTable) return;\n",
              "\n",
              "          const docLinkHtml = 'Like what you see? Visit the ' +\n",
              "            '<a target=\"_blank\" href=https://colab.research.google.com/notebooks/data_table.ipynb>data table notebook</a>'\n",
              "            + ' to learn more about interactive tables.';\n",
              "          element.innerHTML = '';\n",
              "          dataTable['output_type'] = 'display_data';\n",
              "          await google.colab.output.renderOutput(dataTable, element);\n",
              "          const docLink = document.createElement('div');\n",
              "          docLink.innerHTML = docLinkHtml;\n",
              "          element.appendChild(docLink);\n",
              "        }\n",
              "      </script>\n",
              "    </div>\n",
              "  </div>\n",
              "  "
            ]
          },
          "metadata": {},
          "execution_count": 132
        }
      ],
      "source": [
        "# Seperating the data which we are gonna use for prediction.\n",
        "x=data.iloc[:,1:14]\n",
        "x.head()"
      ]
    },
    {
      "cell_type": "code",
      "execution_count": null,
      "metadata": {
        "id": "YqjmeJAgd0lc",
        "colab": {
          "base_uri": "https://localhost:8080/"
        },
        "outputId": "f7540b72-5c55-4dc9-f8c5-2faccd754182"
      },
      "outputs": [
        {
          "output_type": "execute_result",
          "data": {
            "text/plain": [
              "0      1\n",
              "1      1\n",
              "2      1\n",
              "3      1\n",
              "4      0\n",
              "      ..\n",
              "113    1\n",
              "114    0\n",
              "115    0\n",
              "116    0\n",
              "117    1\n",
              "Name: FLOODS, Length: 118, dtype: int64"
            ]
          },
          "metadata": {},
          "execution_count": 133
        }
      ],
      "source": [
        "# Now seperate the flood label from the dataset.\n",
        "y=data.iloc[:,-1]\n",
        "y"
      ]
    },
    {
      "cell_type": "markdown",
      "metadata": {
        "id": "_qe4f8A2d0ld"
      },
      "source": [
        "# Plotting the Data\n"
      ]
    },
    {
      "cell_type": "code",
      "execution_count": null,
      "metadata": {
        "id": "X54ISEr3d0le",
        "colab": {
          "base_uri": "https://localhost:8080/",
          "height": 281
        },
        "outputId": "69e70289-e526-4e07-997a-fa6c1d70ac78"
      },
      "outputs": [
        {
          "output_type": "display_data",
          "data": {
            "text/plain": [
              "<Figure size 432x288 with 4 Axes>"
            ],
            "image/png": "[encoded data removed]"
          },
          "metadata": {
            "needs_background": "light"
          }
        }
      ],
      "source": [
        "import matplotlib.pyplot as plt   \n",
        "# sets the backend of matplotlib to the 'inline' backend. \n",
        "%matplotlib inline                   \n",
        "c = data[['JUN','JUL','AUG','SEP']]\n",
        "c.hist()\n",
        "plt.show()\n",
        "# How the rainfall index vary during rainy season"
      ]
    },
    {
      "cell_type": "code",
      "execution_count": null,
      "metadata": {
        "id": "GcjA-jpXd0le",
        "colab": {
          "base_uri": "https://localhost:8080/",
          "height": 467
        },
        "outputId": "8bed1ce3-91cd-4ea5-c8ae-97b98a1e4069"
      },
      "outputs": [
        {
          "output_type": "display_data",
          "data": {
            "text/plain": [
              "<Figure size 1008x432 with 1 Axes>"
            ],
            "image/png": "[encoded data removed]"
          },
          "metadata": {
            "needs_background": "light"
          }
        }
      ],
      "source": [
        "ax = data[['JAN', 'FEB', 'MAR', 'APR','MAY', 'JUN', 'AUG', 'SEP', 'OCT','NOV','DEC']].mean().plot.bar(width=0.5,edgecolor='k',align='center',linewidth=2,figsize=(14,6))\n",
        "plt.xlabel('Month',fontsize=30)\n",
        "plt.ylabel('Monthly Rainfall',fontsize=20)\n",
        "plt.title('Rainfall in Kerela for all Months',fontsize=25)\n",
        "ax.tick_params(labelsize=20)\n",
        "plt.grid()\n",
        "plt.ioff()"
      ]
    },
    {
      "cell_type": "markdown",
      "metadata": {
        "id": "aagR0RDGd0lf"
      },
      "source": [
        "# Using sklearn to develop the ML Model"
      ]
    },
    {
      "cell_type": "code",
      "execution_count": null,
      "metadata": {
        "id": "hBMN-jSnd0lg",
        "colab": {
          "base_uri": "https://localhost:8080/"
        },
        "outputId": "b3db633d-2ca3-452e-8a37-ba4f3ca08bf7"
      },
      "outputs": [
        {
          "output_type": "execute_result",
          "data": {
            "text/plain": [
              "array([[0.        , 0.34371257, 0.56582278, ..., 0.39727673, 0.95570189,\n",
              "        0.2388724 ],\n",
              "       [0.00854701, 0.08023952, 0.03291139, ..., 0.5804966 , 0.37952709,\n",
              "        0.60039565],\n",
              "       [0.01709402, 0.03832335, 0.23544304, ..., 0.57188626, 0.37563604,\n",
              "        0.29129575],\n",
              "       ...,\n",
              "       [0.98290598, 0.02874251, 0.04810127, ..., 0.31517821, 0.28105358,\n",
              "        0.11622156],\n",
              "       [0.99145299, 0.02275449, 0.08607595, ..., 0.24809772, 0.18258007,\n",
              "        0.18793274],\n",
              "       [1.        , 0.34850299, 0.65949367, ..., 0.57589107, 0.28105358,\n",
              "        0.3214639 ]])"
            ]
          },
          "metadata": {},
          "execution_count": 136
        }
      ],
      "source": [
        "# Scaling the data between 0 and 1.\n",
        "from sklearn import preprocessing\n",
        "minmax = preprocessing.MinMaxScaler(feature_range=(0,1))\n",
        "minmax.fit(x).transform(x)"
      ]
    },
    {
      "cell_type": "code",
      "execution_count": null,
      "metadata": {
        "id": "XlrElmy2d0ll",
        "colab": {
          "base_uri": "https://localhost:8080/",
          "height": 206
        },
        "outputId": "27fdd8ea-0ddc-40f2-bd63-7ece98976b71"
      },
      "outputs": [
        {
          "output_type": "execute_result",
          "data": {
            "text/plain": [
              "    YEAR   JAN   FEB   MAR    APR    MAY    JUN    JUL    AUG    SEP    OCT  \\\n",
              "13  1914   0.7   6.8  18.1   32.7  164.2  565.3  857.7  402.2  241.0  374.4   \n",
              "42  1943  83.5  14.6  38.4  107.5  478.4  794.5  831.6  183.3  257.6  427.2   \n",
              "62  1963  30.2  24.8  69.8   96.3  157.1  393.3  720.2  511.0  223.9  282.6   \n",
              "66  1967  14.3   0.1  24.6   70.1  244.9  541.7  741.4  508.4  145.8  172.7   \n",
              "61  1962  28.4  54.7  39.6   95.1  472.4  244.9  951.1  510.7  394.9  475.6   \n",
              "\n",
              "      NOV    DEC  \n",
              "13  100.9  135.2  \n",
              "42  223.4   24.3  \n",
              "62   93.4   48.4  \n",
              "66   74.0   31.1  \n",
              "61   31.5   76.9  "
            ],
            "text/html": [
              "\n",
              "  <div id=\"df-238649a8-f333-4555-9303-620c396bc940\">\n",
              "    <div class=\"colab-df-container\">\n",
              "      <div>\n",
              "<style scoped>\n",
              "    .dataframe tbody tr th:only-of-type {\n",
              "        vertical-align: middle;\n",
              "    }\n",
              "\n",
              "    .dataframe tbody tr th {\n",
              "        vertical-align: top;\n",
              "    }\n",
              "\n",
              "    .dataframe thead th {\n",
              "        text-align: right;\n",
              "    }\n",
              "</style>\n",
              "<table border=\"1\" class=\"dataframe\">\n",
              "  <thead>\n",
              "    <tr style=\"text-align: right;\">\n",
              "      <th></th>\n",
              "      <th>YEAR</th>\n",
              "      <th>JAN</th>\n",
              "      <th>FEB</th>\n",
              "      <th>MAR</th>\n",
              "      <th>APR</th>\n",
              "      <th>MAY</th>\n",
              "      <th>JUN</th>\n",
              "      <th>JUL</th>\n",
              "      <th>AUG</th>\n",
              "      <th>SEP</th>\n",
              "      <th>OCT</th>\n",
              "      <th>NOV</th>\n",
              "      <th>DEC</th>\n",
              "    </tr>\n",
              "  </thead>\n",
              "  <tbody>\n",
              "    <tr>\n",
              "      <th>13</th>\n",
              "      <td>1914</td>\n",
              "      <td>0.7</td>\n",
              "      <td>6.8</td>\n",
              "      <td>18.1</td>\n",
              "      <td>32.7</td>\n",
              "      <td>164.2</td>\n",
              "      <td>565.3</td>\n",
              "      <td>857.7</td>\n",
              "      <td>402.2</td>\n",
              "      <td>241.0</td>\n",
              "      <td>374.4</td>\n",
              "      <td>100.9</td>\n",
              "      <td>135.2</td>\n",
              "    </tr>\n",
              "    <tr>\n",
              "      <th>42</th>\n",
              "      <td>1943</td>\n",
              "      <td>83.5</td>\n",
              "      <td>14.6</td>\n",
              "      <td>38.4</td>\n",
              "      <td>107.5</td>\n",
              "      <td>478.4</td>\n",
              "      <td>794.5</td>\n",
              "      <td>831.6</td>\n",
              "      <td>183.3</td>\n",
              "      <td>257.6</td>\n",
              "      <td>427.2</td>\n",
              "      <td>223.4</td>\n",
              "      <td>24.3</td>\n",
              "    </tr>\n",
              "    <tr>\n",
              "      <th>62</th>\n",
              "      <td>1963</td>\n",
              "      <td>30.2</td>\n",
              "      <td>24.8</td>\n",
              "      <td>69.8</td>\n",
              "      <td>96.3</td>\n",
              "      <td>157.1</td>\n",
              "      <td>393.3</td>\n",
              "      <td>720.2</td>\n",
              "      <td>511.0</td>\n",
              "      <td>223.9</td>\n",
              "      <td>282.6</td>\n",
              "      <td>93.4</td>\n",
              "      <td>48.4</td>\n",
              "    </tr>\n",
              "    <tr>\n",
              "      <th>66</th>\n",
              "      <td>1967</td>\n",
              "      <td>14.3</td>\n",
              "      <td>0.1</td>\n",
              "      <td>24.6</td>\n",
              "      <td>70.1</td>\n",
              "      <td>244.9</td>\n",
              "      <td>541.7</td>\n",
              "      <td>741.4</td>\n",
              "      <td>508.4</td>\n",
              "      <td>145.8</td>\n",
              "      <td>172.7</td>\n",
              "      <td>74.0</td>\n",
              "      <td>31.1</td>\n",
              "    </tr>\n",
              "    <tr>\n",
              "      <th>61</th>\n",
              "      <td>1962</td>\n",
              "      <td>28.4</td>\n",
              "      <td>54.7</td>\n",
              "      <td>39.6</td>\n",
              "      <td>95.1</td>\n",
              "      <td>472.4</td>\n",
              "      <td>244.9</td>\n",
              "      <td>951.1</td>\n",
              "      <td>510.7</td>\n",
              "      <td>394.9</td>\n",
              "      <td>475.6</td>\n",
              "      <td>31.5</td>\n",
              "      <td>76.9</td>\n",
              "    </tr>\n",
              "  </tbody>\n",
              "</table>\n",
              "</div>\n",
              "      <button class=\"colab-df-convert\" onclick=\"convertToInteractive('df-238649a8-f333-4555-9303-620c396bc940')\"\n",
              "              title=\"Convert this dataframe to an interactive table.\"\n",
              "              style=\"display:none;\">\n",
              "        \n",
              "  <svg xmlns=\"http://www.w3.org/2000/svg\" height=\"24px\"viewBox=\"0 0 24 24\"\n",
              "       width=\"24px\">\n",
              "    <path d=\"M0 0h24v24H0V0z\" fill=\"none\"/>\n",
              "    <path d=\"M18.56 5.44l.94 2.06.94-2.06 2.06-.94-2.06-.94-.94-2.06-.94 2.06-2.06.94zm-11 1L8.5 8.5l.94-2.06 2.06-.94-2.06-.94L8.5 2.5l-.94 2.06-2.06.94zm10 10l.94 2.06.94-2.06 2.06-.94-2.06-.94-.94-2.06-.94 2.06-2.06.94z\"/><path d=\"M17.41 7.96l-1.37-1.37c-.4-.4-.92-.59-1.43-.59-.52 0-1.04.2-1.43.59L10.3 9.45l-7.72 7.72c-.78.78-.78 2.05 0 2.83L4 21.41c.39.39.9.59 1.41.59.51 0 1.02-.2 1.41-.59l7.78-7.78 2.81-2.81c.8-.78.8-2.07 0-2.86zM5.41 20L4 18.59l7.72-7.72 1.47 1.35L5.41 20z\"/>\n",
              "  </svg>\n",
              "      </button>\n",
              "      \n",
              "  <style>\n",
              "    .colab-df-container {\n",
              "      display:flex;\n",
              "      flex-wrap:wrap;\n",
              "      gap: 12px;\n",
              "    }\n",
              "\n",
              "    .colab-df-convert {\n",
              "      background-color: #E8F0FE;\n",
              "      border: none;\n",
              "      border-radius: 50%;\n",
              "      cursor: pointer;\n",
              "      display: none;\n",
              "      fill: #1967D2;\n",
              "      height: 32px;\n",
              "      padding: 0 0 0 0;\n",
              "      width: 32px;\n",
              "    }\n",
              "\n",
              "    .colab-df-convert:hover {\n",
              "      background-color: #E2EBFA;\n",
              "      box-shadow: 0px 1px 2px rgba(60, 64, 67, 0.3), 0px 1px 3px 1px rgba(60, 64, 67, 0.15);\n",
              "      fill: #174EA6;\n",
              "    }\n",
              "\n",
              "    [theme=dark] .colab-df-convert {\n",
              "      background-color: #3B4455;\n",
              "      fill: #D2E3FC;\n",
              "    }\n",
              "\n",
              "    [theme=dark] .colab-df-convert:hover {\n",
              "      background-color: #434B5C;\n",
              "      box-shadow: 0px 1px 3px 1px rgba(0, 0, 0, 0.15);\n",
              "      filter: drop-shadow(0px 1px 2px rgba(0, 0, 0, 0.3));\n",
              "      fill: #FFFFFF;\n",
              "    }\n",
              "  </style>\n",
              "\n",
              "      <script>\n",
              "        const buttonEl =\n",
              "          document.querySelector('#df-238649a8-f333-4555-9303-620c396bc940 button.colab-df-convert');\n",
              "        buttonEl.style.display =\n",
              "          google.colab.kernel.accessAllowed ? 'block' : 'none';\n",
              "\n",
              "        async function convertToInteractive(key) {\n",
              "          const element = document.querySelector('#df-238649a8-f333-4555-9303-620c396bc940');\n",
              "          const dataTable =\n",
              "            await google.colab.kernel.invokeFunction('convertToInteractive',\n",
              "                                                     [key], {});\n",
              "          if (!dataTable) return;\n",
              "\n",
              "          const docLinkHtml = 'Like what you see? Visit the ' +\n",
              "            '<a target=\"_blank\" href=https://colab.research.google.com/notebooks/data_table.ipynb>data table notebook</a>'\n",
              "            + ' to learn more about interactive tables.';\n",
              "          element.innerHTML = '';\n",
              "          dataTable['output_type'] = 'display_data';\n",
              "          await google.colab.output.renderOutput(dataTable, element);\n",
              "          const docLink = document.createElement('div');\n",
              "          docLink.innerHTML = docLinkHtml;\n",
              "          element.appendChild(docLink);\n",
              "        }\n",
              "      </script>\n",
              "    </div>\n",
              "  </div>\n",
              "  "
            ]
          },
          "metadata": {},
          "execution_count": 137
        }
      ],
      "source": [
        "#dividing the dataset into training dataset and test dataset. \n",
        "from sklearn import model_selection,neighbors\n",
        "from sklearn.model_selection import train_test_split\n",
        "x_train,x_test,y_train,y_test=train_test_split(x,y,test_size=0.2)\n",
        "x_train.head()"
      ]
    },
    {
      "cell_type": "code",
      "execution_count": null,
      "metadata": {
        "id": "x2hvaqwgd0lm",
        "colab": {
          "base_uri": "https://localhost:8080/"
        },
        "outputId": "7a1fe26b-409d-4cd7-b398-94f378048df0"
      },
      "outputs": [
        {
          "output_type": "execute_result",
          "data": {
            "text/plain": [
              "YEAR      int64\n",
              "JAN     float64\n",
              "FEB     float64\n",
              "MAR     float64\n",
              "APR     float64\n",
              "MAY     float64\n",
              "JUN     float64\n",
              "JUL     float64\n",
              "AUG     float64\n",
              "SEP     float64\n",
              "OCT     float64\n",
              "NOV     float64\n",
              "DEC     float64\n",
              "dtype: object"
            ]
          },
          "metadata": {},
          "execution_count": 138
        }
      ],
      "source": [
        "x_train.dtypes"
      ]
    },
    {
      "cell_type": "code",
      "execution_count": null,
      "metadata": {
        "id": "egLXe0xWd0lm",
        "colab": {
          "base_uri": "https://localhost:8080/",
          "height": 206
        },
        "outputId": "fda8ed21-8c94-4ea8-bc8f-7b619f846e70"
      },
      "outputs": [
        {
          "output_type": "execute_result",
          "data": {
            "text/plain": [
              "    YEAR   JAN   FEB   MAR    APR    MAY    JUN    JUL    AUG    SEP    OCT  \\\n",
              "15  1916   0.0   7.8  22.0   82.4  199.0  920.2  513.9  396.9  339.3  320.7   \n",
              "37  1938   0.3  79.0  53.3  164.5  179.6  681.6  648.6  287.9  223.2  223.7   \n",
              "51  1952   5.2  48.2  20.8  112.2  214.6  576.7  430.0  413.6   57.4  339.6   \n",
              "14  1915  16.9  23.5  42.7  106.0  154.5  696.1  775.6  298.8  396.6  196.6   \n",
              "38  1939  13.6   3.6  24.9  172.8  105.1  625.8  749.6  459.9  134.1  339.8   \n",
              "\n",
              "      NOV   DEC  \n",
              "15  134.3   8.9  \n",
              "37   69.5  22.9  \n",
              "51   49.6  66.9  \n",
              "14  302.5  14.9  \n",
              "38  298.1  10.2  "
            ],
            "text/html": [
              "\n",
              "  <div id=\"df-c42cd81c-d56c-4644-916d-cb8a47f64943\">\n",
              "    <div class=\"colab-df-container\">\n",
              "      <div>\n",
              "<style scoped>\n",
              "    .dataframe tbody tr th:only-of-type {\n",
              "        vertical-align: middle;\n",
              "    }\n",
              "\n",
              "    .dataframe tbody tr th {\n",
              "        vertical-align: top;\n",
              "    }\n",
              "\n",
              "    .dataframe thead th {\n",
              "        text-align: right;\n",
              "    }\n",
              "</style>\n",
              "<table border=\"1\" class=\"dataframe\">\n",
              "  <thead>\n",
              "    <tr style=\"text-align: right;\">\n",
              "      <th></th>\n",
              "      <th>YEAR</th>\n",
              "      <th>JAN</th>\n",
              "      <th>FEB</th>\n",
              "      <th>MAR</th>\n",
              "      <th>APR</th>\n",
              "      <th>MAY</th>\n",
              "      <th>JUN</th>\n",
              "      <th>JUL</th>\n",
              "      <th>AUG</th>\n",
              "      <th>SEP</th>\n",
              "      <th>OCT</th>\n",
              "      <th>NOV</th>\n",
              "      <th>DEC</th>\n",
              "    </tr>\n",
              "  </thead>\n",
              "  <tbody>\n",
              "    <tr>\n",
              "      <th>15</th>\n",
              "      <td>1916</td>\n",
              "      <td>0.0</td>\n",
              "      <td>7.8</td>\n",
              "      <td>22.0</td>\n",
              "      <td>82.4</td>\n",
              "      <td>199.0</td>\n",
              "      <td>920.2</td>\n",
              "      <td>513.9</td>\n",
              "      <td>396.9</td>\n",
              "      <td>339.3</td>\n",
              "      <td>320.7</td>\n",
              "      <td>134.3</td>\n",
              "      <td>8.9</td>\n",
              "    </tr>\n",
              "    <tr>\n",
              "      <th>37</th>\n",
              "      <td>1938</td>\n",
              "      <td>0.3</td>\n",
              "      <td>79.0</td>\n",
              "      <td>53.3</td>\n",
              "      <td>164.5</td>\n",
              "      <td>179.6</td>\n",
              "      <td>681.6</td>\n",
              "      <td>648.6</td>\n",
              "      <td>287.9</td>\n",
              "      <td>223.2</td>\n",
              "      <td>223.7</td>\n",
              "      <td>69.5</td>\n",
              "      <td>22.9</td>\n",
              "    </tr>\n",
              "    <tr>\n",
              "      <th>51</th>\n",
              "      <td>1952</td>\n",
              "      <td>5.2</td>\n",
              "      <td>48.2</td>\n",
              "      <td>20.8</td>\n",
              "      <td>112.2</td>\n",
              "      <td>214.6</td>\n",
              "      <td>576.7</td>\n",
              "      <td>430.0</td>\n",
              "      <td>413.6</td>\n",
              "      <td>57.4</td>\n",
              "      <td>339.6</td>\n",
              "      <td>49.6</td>\n",
              "      <td>66.9</td>\n",
              "    </tr>\n",
              "    <tr>\n",
              "      <th>14</th>\n",
              "      <td>1915</td>\n",
              "      <td>16.9</td>\n",
              "      <td>23.5</td>\n",
              "      <td>42.7</td>\n",
              "      <td>106.0</td>\n",
              "      <td>154.5</td>\n",
              "      <td>696.1</td>\n",
              "      <td>775.6</td>\n",
              "      <td>298.8</td>\n",
              "      <td>396.6</td>\n",
              "      <td>196.6</td>\n",
              "      <td>302.5</td>\n",
              "      <td>14.9</td>\n",
              "    </tr>\n",
              "    <tr>\n",
              "      <th>38</th>\n",
              "      <td>1939</td>\n",
              "      <td>13.6</td>\n",
              "      <td>3.6</td>\n",
              "      <td>24.9</td>\n",
              "      <td>172.8</td>\n",
              "      <td>105.1</td>\n",
              "      <td>625.8</td>\n",
              "      <td>749.6</td>\n",
              "      <td>459.9</td>\n",
              "      <td>134.1</td>\n",
              "      <td>339.8</td>\n",
              "      <td>298.1</td>\n",
              "      <td>10.2</td>\n",
              "    </tr>\n",
              "  </tbody>\n",
              "</table>\n",
              "</div>\n",
              "      <button class=\"colab-df-convert\" onclick=\"convertToInteractive('df-c42cd81c-d56c-4644-916d-cb8a47f64943')\"\n",
              "              title=\"Convert this dataframe to an interactive table.\"\n",
              "              style=\"display:none;\">\n",
              "        \n",
              "  <svg xmlns=\"http://www.w3.org/2000/svg\" height=\"24px\"viewBox=\"0 0 24 24\"\n",
              "       width=\"24px\">\n",
              "    <path d=\"M0 0h24v24H0V0z\" fill=\"none\"/>\n",
              "    <path d=\"M18.56 5.44l.94 2.06.94-2.06 2.06-.94-2.06-.94-.94-2.06-.94 2.06-2.06.94zm-11 1L8.5 8.5l.94-2.06 2.06-.94-2.06-.94L8.5 2.5l-.94 2.06-2.06.94zm10 10l.94 2.06.94-2.06 2.06-.94-2.06-.94-.94-2.06-.94 2.06-2.06.94z\"/><path d=\"M17.41 7.96l-1.37-1.37c-.4-.4-.92-.59-1.43-.59-.52 0-1.04.2-1.43.59L10.3 9.45l-7.72 7.72c-.78.78-.78 2.05 0 2.83L4 21.41c.39.39.9.59 1.41.59.51 0 1.02-.2 1.41-.59l7.78-7.78 2.81-2.81c.8-.78.8-2.07 0-2.86zM5.41 20L4 18.59l7.72-7.72 1.47 1.35L5.41 20z\"/>\n",
              "  </svg>\n",
              "      </button>\n",
              "      \n",
              "  <style>\n",
              "    .colab-df-container {\n",
              "      display:flex;\n",
              "      flex-wrap:wrap;\n",
              "      gap: 12px;\n",
              "    }\n",
              "\n",
              "    .colab-df-convert {\n",
              "      background-color: #E8F0FE;\n",
              "      border: none;\n",
              "      border-radius: 50%;\n",
              "      cursor: pointer;\n",
              "      display: none;\n",
              "      fill: #1967D2;\n",
              "      height: 32px;\n",
              "      padding: 0 0 0 0;\n",
              "      width: 32px;\n",
              "    }\n",
              "\n",
              "    .colab-df-convert:hover {\n",
              "      background-color: #E2EBFA;\n",
              "      box-shadow: 0px 1px 2px rgba(60, 64, 67, 0.3), 0px 1px 3px 1px rgba(60, 64, 67, 0.15);\n",
              "      fill: #174EA6;\n",
              "    }\n",
              "\n",
              "    [theme=dark] .colab-df-convert {\n",
              "      background-color: #3B4455;\n",
              "      fill: #D2E3FC;\n",
              "    }\n",
              "\n",
              "    [theme=dark] .colab-df-convert:hover {\n",
              "      background-color: #434B5C;\n",
              "      box-shadow: 0px 1px 3px 1px rgba(0, 0, 0, 0.15);\n",
              "      filter: drop-shadow(0px 1px 2px rgba(0, 0, 0, 0.3));\n",
              "      fill: #FFFFFF;\n",
              "    }\n",
              "  </style>\n",
              "\n",
              "      <script>\n",
              "        const buttonEl =\n",
              "          document.querySelector('#df-c42cd81c-d56c-4644-916d-cb8a47f64943 button.colab-df-convert');\n",
              "        buttonEl.style.display =\n",
              "          google.colab.kernel.accessAllowed ? 'block' : 'none';\n",
              "\n",
              "        async function convertToInteractive(key) {\n",
              "          const element = document.querySelector('#df-c42cd81c-d56c-4644-916d-cb8a47f64943');\n",
              "          const dataTable =\n",
              "            await google.colab.kernel.invokeFunction('convertToInteractive',\n",
              "                                                     [key], {});\n",
              "          if (!dataTable) return;\n",
              "\n",
              "          const docLinkHtml = 'Like what you see? Visit the ' +\n",
              "            '<a target=\"_blank\" href=https://colab.research.google.com/notebooks/data_table.ipynb>data table notebook</a>'\n",
              "            + ' to learn more about interactive tables.';\n",
              "          element.innerHTML = '';\n",
              "          dataTable['output_type'] = 'display_data';\n",
              "          await google.colab.output.renderOutput(dataTable, element);\n",
              "          const docLink = document.createElement('div');\n",
              "          docLink.innerHTML = docLinkHtml;\n",
              "          element.appendChild(docLink);\n",
              "        }\n",
              "      </script>\n",
              "    </div>\n",
              "  </div>\n",
              "  "
            ]
          },
          "metadata": {},
          "execution_count": 139
        }
      ],
      "source": [
        "x_test.head()"
      ]
    },
    {
      "cell_type": "code",
      "execution_count": null,
      "metadata": {
        "id": "pA3wK8qRd0lm",
        "colab": {
          "base_uri": "https://localhost:8080/"
        },
        "outputId": "b92217a6-35a3-490b-e71d-104027c1355a"
      },
      "outputs": [
        {
          "output_type": "execute_result",
          "data": {
            "text/plain": [
              "13     0\n",
              "42     1\n",
              "62     0\n",
              "66     0\n",
              "61     1\n",
              "      ..\n",
              "46     1\n",
              "22     1\n",
              "86     0\n",
              "109    1\n",
              "82     0\n",
              "Name: FLOODS, Length: 94, dtype: int64"
            ]
          },
          "metadata": {},
          "execution_count": 140
        }
      ],
      "source": [
        "# type casting.\n",
        "y_train=y_train.astype('int')\n",
        "y_train"
      ]
    },
    {
      "cell_type": "code",
      "execution_count": null,
      "metadata": {
        "id": "vaxbFXgfd0ln",
        "colab": {
          "base_uri": "https://localhost:8080/"
        },
        "outputId": "c401706a-5167-44be-954e-2f74f4ac49c8"
      },
      "outputs": [
        {
          "output_type": "execute_result",
          "data": {
            "text/plain": [
              "15     1\n",
              "37     0\n",
              "51     0\n",
              "14     1\n",
              "38     1\n",
              "113    1\n",
              "100    0\n",
              "29     1\n",
              "10     0\n",
              "75     0\n",
              "83     0\n",
              "65     0\n",
              "60     1\n",
              "91     1\n",
              "55     0\n",
              "88     0\n",
              "101    0\n",
              "39     1\n",
              "35     1\n",
              "50     0\n",
              "59     1\n",
              "67     1\n",
              "53     1\n",
              "33     0\n",
              "Name: FLOODS, dtype: int64"
            ]
          },
          "metadata": {},
          "execution_count": 141
        }
      ],
      "source": [
        "y_test=y_test.astype('int')\n",
        "y_test"
      ]
    },
    {
      "cell_type": "markdown",
      "metadata": {
        "id": "KsztZcf_d0ln"
      },
      "source": [
        "# Using Prediction Algorithms:"
      ]
    },
    {
      "cell_type": "markdown",
      "metadata": {
        "id": "BB0GyzrQd0ln"
      },
      "source": [
        "## KNN classifier to predict"
      ]
    },
    {
      "cell_type": "code",
      "execution_count": null,
      "metadata": {
        "id": "sHs7hu2Ed0lo",
        "colab": {
          "base_uri": "https://localhost:8080/"
        },
        "outputId": "ccd29615-cd2e-4e96-89e4-18b1ca221597"
      },
      "outputs": [
        {
          "output_type": "execute_result",
          "data": {
            "text/plain": [
              "KNeighborsClassifier()"
            ]
          },
          "metadata": {},
          "execution_count": 142
        }
      ],
      "source": [
        "clf=neighbors.KNeighborsClassifier()\n",
        "clf.fit(x_train,y_train)"
      ]
    },
    {
      "cell_type": "code",
      "execution_count": null,
      "metadata": {
        "id": "kAmJfy0Yd0lp",
        "colab": {
          "base_uri": "https://localhost:8080/"
        },
        "outputId": "d184fe7d-4b5d-4107-dd1c-c4e108d58313"
      },
      "outputs": [
        {
          "output_type": "stream",
          "name": "stdout",
          "text": [
            "Predicted Values for the Floods:\n"
          ]
        },
        {
          "output_type": "execute_result",
          "data": {
            "text/plain": [
              "array([1, 0, 0, 1, 1, 0, 0, 0, 1, 0, 1, 0, 1, 1, 0, 0, 0, 0, 1, 1, 1, 1,\n",
              "       1, 0])"
            ]
          },
          "metadata": {},
          "execution_count": 143
        }
      ],
      "source": [
        "# Predicted chance of Flood.\n",
        "print(\"Predicted Values for the Floods:\")\n",
        "y_predict=clf.predict(x_test)\n",
        "y_predict"
      ]
    },
    {
      "cell_type": "code",
      "execution_count": null,
      "metadata": {
        "id": "X297a8_Fd0lp",
        "colab": {
          "base_uri": "https://localhost:8080/"
        },
        "outputId": "3b0d5ce6-8797-4e21-d8dd-bdebdefbbbd7"
      },
      "outputs": [
        {
          "output_type": "stream",
          "name": "stdout",
          "text": [
            "Actual Values for the Floods:\n",
            "15     1\n",
            "37     0\n",
            "51     0\n",
            "14     1\n",
            "38     1\n",
            "113    1\n",
            "100    0\n",
            "29     1\n",
            "10     0\n",
            "75     0\n",
            "83     0\n",
            "65     0\n",
            "60     1\n",
            "91     1\n",
            "55     0\n",
            "88     0\n",
            "101    0\n",
            "39     1\n",
            "35     1\n",
            "50     0\n",
            "59     1\n",
            "67     1\n",
            "53     1\n",
            "33     0\n",
            "Name: FLOODS, dtype: int64\n"
          ]
        }
      ],
      "source": [
        "print(\"Actual Values for the Floods:\")\n",
        "print(y_test)"
      ]
    },
    {
      "cell_type": "code",
      "execution_count": null,
      "metadata": {
        "id": "_Nxu2c2od0lq",
        "colab": {
          "base_uri": "https://localhost:8080/"
        },
        "outputId": "4de5e72a-a0f3-4c9b-f035-d25ebec70e4c"
      },
      "outputs": [
        {
          "output_type": "stream",
          "name": "stdout",
          "text": [
            "List of the Predicted Values:\n",
            "[1 0 0 1 1 0 0 0 1 0 1 0 1 1 0 0 0 0 1 1 1 1 1 0]\n"
          ]
        }
      ],
      "source": [
        "print(\"List of the Predicted Values:\")\n",
        "print(y_predict)"
      ]
    },
    {
      "cell_type": "code",
      "execution_count": null,
      "metadata": {
        "id": "na45ieF0d0lq"
      },
      "outputs": [],
      "source": [
        "# Scaling the dataset.\n",
        "from sklearn.model_selection import cross_val_score,cross_val_predict\n",
        "x_train_std= minmax.fit_transform(x_train)\n",
        "x_test_std= minmax.fit_transform(x_test)\n",
        "knn_acc=cross_val_score(clf,x_train_std,y_train,cv=3,scoring='accuracy',n_jobs=-1)\n",
        "knn_proba=cross_val_predict(clf,x_train_std,y_train,cv=3,method='predict_proba')"
      ]
    },
    {
      "cell_type": "code",
      "execution_count": null,
      "metadata": {
        "id": "BpodTVUJd0lr",
        "colab": {
          "base_uri": "https://localhost:8080/"
        },
        "outputId": "17d6a0ed-4781-4c11-a611-43e468ff7cac"
      },
      "outputs": [
        {
          "output_type": "execute_result",
          "data": {
            "text/plain": [
              "array([0.75      , 0.77419355, 0.80645161])"
            ]
          },
          "metadata": {},
          "execution_count": 147
        }
      ],
      "source": [
        "knn_acc"
      ]
    },
    {
      "cell_type": "code",
      "execution_count": null,
      "metadata": {
        "id": "lIJ7IH7Qd0lr",
        "colab": {
          "base_uri": "https://localhost:8080/"
        },
        "outputId": "8dfe7209-d7ec-432c-fe12-0bcdadd16c9e"
      },
      "outputs": [
        {
          "output_type": "execute_result",
          "data": {
            "text/plain": [
              "array([[0.4, 0.6],\n",
              "       [0. , 1. ],\n",
              "       [0.6, 0.4],\n",
              "       [0.8, 0.2],\n",
              "       [0.6, 0.4],\n",
              "       [0.2, 0.8],\n",
              "       [0.6, 0.4],\n",
              "       [0.6, 0.4],\n",
              "       [1. , 0. ],\n",
              "       [0.4, 0.6],\n",
              "       [0.4, 0.6],\n",
              "       [0.8, 0.2],\n",
              "       [1. , 0. ],\n",
              "       [0.2, 0.8],\n",
              "       [0. , 1. ],\n",
              "       [0.6, 0.4],\n",
              "       [0.6, 0.4],\n",
              "       [0.8, 0.2],\n",
              "       [1. , 0. ],\n",
              "       [0.8, 0.2],\n",
              "       [0.8, 0.2],\n",
              "       [0.2, 0.8],\n",
              "       [0.2, 0.8],\n",
              "       [0.8, 0.2],\n",
              "       [0.8, 0.2],\n",
              "       [1. , 0. ],\n",
              "       [0. , 1. ],\n",
              "       [0.6, 0.4],\n",
              "       [0.8, 0.2],\n",
              "       [0.6, 0.4],\n",
              "       [0.4, 0.6],\n",
              "       [0.6, 0.4],\n",
              "       [0.6, 0.4],\n",
              "       [0.6, 0.4],\n",
              "       [0.4, 0.6],\n",
              "       [0.4, 0.6],\n",
              "       [0.6, 0.4],\n",
              "       [0.8, 0.2],\n",
              "       [0.4, 0.6],\n",
              "       [0.8, 0.2],\n",
              "       [0.4, 0.6],\n",
              "       [0.8, 0.2],\n",
              "       [0.6, 0.4],\n",
              "       [0.4, 0.6],\n",
              "       [1. , 0. ],\n",
              "       [0.8, 0.2],\n",
              "       [0.6, 0.4],\n",
              "       [0.2, 0.8],\n",
              "       [1. , 0. ],\n",
              "       [0.4, 0.6],\n",
              "       [0.2, 0.8],\n",
              "       [0.8, 0.2],\n",
              "       [0.4, 0.6],\n",
              "       [0.2, 0.8],\n",
              "       [0. , 1. ],\n",
              "       [0.2, 0.8],\n",
              "       [0.8, 0.2],\n",
              "       [0.4, 0.6],\n",
              "       [0.8, 0.2],\n",
              "       [0.6, 0.4],\n",
              "       [1. , 0. ],\n",
              "       [0.4, 0.6],\n",
              "       [0.8, 0.2],\n",
              "       [0.6, 0.4],\n",
              "       [0.6, 0.4],\n",
              "       [1. , 0. ],\n",
              "       [0.4, 0.6],\n",
              "       [0.8, 0.2],\n",
              "       [0.8, 0.2],\n",
              "       [0.2, 0.8],\n",
              "       [0.4, 0.6],\n",
              "       [0.2, 0.8],\n",
              "       [0.4, 0.6],\n",
              "       [0.6, 0.4],\n",
              "       [0.6, 0.4],\n",
              "       [0.8, 0.2],\n",
              "       [0.8, 0.2],\n",
              "       [0.2, 0.8],\n",
              "       [0.6, 0.4],\n",
              "       [0.4, 0.6],\n",
              "       [0.4, 0.6],\n",
              "       [1. , 0. ],\n",
              "       [0.6, 0.4],\n",
              "       [0.4, 0.6],\n",
              "       [0.4, 0.6],\n",
              "       [0.2, 0.8],\n",
              "       [0.4, 0.6],\n",
              "       [0.8, 0.2],\n",
              "       [0.2, 0.8],\n",
              "       [0.6, 0.4],\n",
              "       [0.4, 0.6],\n",
              "       [0.8, 0.2],\n",
              "       [0.6, 0.4],\n",
              "       [1. , 0. ]])"
            ]
          },
          "metadata": {},
          "execution_count": 148
        }
      ],
      "source": [
        "knn_proba"
      ]
    },
    {
      "cell_type": "markdown",
      "metadata": {
        "id": "cgqxVe0cd0lr"
      },
      "source": [
        "### How accurate is our model?"
      ]
    },
    {
      "cell_type": "code",
      "execution_count": null,
      "metadata": {
        "id": "jpTdGKnXd0ls",
        "colab": {
          "base_uri": "https://localhost:8080/"
        },
        "outputId": "58937702-98e5-4560-ac55-f1f080a080a5"
      },
      "outputs": [
        {
          "output_type": "stream",
          "name": "stdout",
          "text": [
            "\n",
            "Accuracy Score:75.000000\n",
            "Recall Score:75.000000\n",
            "ROC score:75.000000\n",
            "[[9 3]\n",
            " [3 9]]\n"
          ]
        }
      ],
      "source": [
        "from sklearn.metrics import accuracy_score,recall_score,roc_auc_score,confusion_matrix\n",
        "print(\"\\nAccuracy Score:%f\"%(accuracy_score(y_test,y_predict)*100))\n",
        "print(\"Recall Score:%f\"%(recall_score(y_test,y_predict)*100))\n",
        "print(\"ROC score:%f\"%(roc_auc_score(y_test,y_predict)*100))\n",
        "print(confusion_matrix(y_test,y_predict))"
      ]
    },
    {
      "cell_type": "markdown",
      "metadata": {
        "id": "BYM07X1Od0lt"
      },
      "source": [
        "## Logistic Regression to predict"
      ]
    },
    {
      "cell_type": "code",
      "execution_count": null,
      "metadata": {
        "id": "Mn9J543Qd0lt",
        "colab": {
          "base_uri": "https://localhost:8080/"
        },
        "outputId": "b9ab2992-e810-457e-e6b9-ac04f85ae9bb"
      },
      "outputs": [
        {
          "output_type": "stream",
          "name": "stderr",
          "text": [
            "/usr/local/lib/python3.7/dist-packages/sklearn/linear_model/_logistic.py:818: ConvergenceWarning: lbfgs failed to converge (status=1):\n",
            "STOP: TOTAL NO. of ITERATIONS REACHED LIMIT.\n",
            "\n",
            "Increase the number of iterations (max_iter) or scale the data as shown in:\n",
            "    https://scikit-learn.org/stable/modules/preprocessing.html\n",
            "Please also refer to the documentation for alternative solver options:\n",
            "    https://scikit-learn.org/stable/modules/linear_model.html#logistic-regression\n",
            "  extra_warning_msg=_LOGISTIC_SOLVER_CONVERGENCE_MSG,\n"
          ]
        }
      ],
      "source": [
        "x_train_std=minmax.fit_transform(x_train)         # fit the values in between 0 and 1.\n",
        "y_train_std=minmax.transform(x_test)\n",
        "\n",
        "from sklearn.model_selection import cross_val_score,cross_val_predict\n",
        "from sklearn.linear_model import LogisticRegression\n",
        "lr=LogisticRegression()\n",
        "lr.fit(x_train,y_train)\n",
        "lr_acc=cross_val_score(lr,x_train_std,y_train,cv=3,scoring='accuracy',n_jobs=-1)\n",
        "lr_proba=cross_val_predict(lr,x_train_std,y_train,cv=3,method='predict_proba')"
      ]
    },
    {
      "cell_type": "code",
      "execution_count": null,
      "metadata": {
        "id": "LYuTAV1kd0lu",
        "colab": {
          "base_uri": "https://localhost:8080/"
        },
        "outputId": "52518eca-2177-486c-cdb9-79f10e945f5e"
      },
      "outputs": [
        {
          "output_type": "execute_result",
          "data": {
            "text/plain": [
              "array([0.8125    , 0.87096774, 0.90322581])"
            ]
          },
          "metadata": {},
          "execution_count": 151
        }
      ],
      "source": [
        "lr_acc"
      ]
    },
    {
      "cell_type": "code",
      "execution_count": null,
      "metadata": {
        "id": "9pN-qWtUd0lv",
        "colab": {
          "base_uri": "https://localhost:8080/"
        },
        "outputId": "50c56899-6841-4e01-9b4a-9a9f7abab237"
      },
      "outputs": [
        {
          "output_type": "execute_result",
          "data": {
            "text/plain": [
              "array([[0.48625153, 0.51374847],\n",
              "       [0.17701204, 0.82298796],\n",
              "       [0.68928602, 0.31071398],\n",
              "       [0.69496127, 0.30503873],\n",
              "       [0.54983152, 0.45016848],\n",
              "       [0.42492705, 0.57507295],\n",
              "       [0.37747397, 0.62252603],\n",
              "       [0.58492479, 0.41507521],\n",
              "       [0.6230373 , 0.3769627 ],\n",
              "       [0.51454669, 0.48545331],\n",
              "       [0.35439483, 0.64560517],\n",
              "       [0.68356417, 0.31643583],\n",
              "       [0.84043389, 0.15956611],\n",
              "       [0.28131762, 0.71868238],\n",
              "       [0.37178254, 0.62821746],\n",
              "       [0.64931095, 0.35068905],\n",
              "       [0.63281725, 0.36718275],\n",
              "       [0.36612938, 0.63387062],\n",
              "       [0.80049532, 0.19950468],\n",
              "       [0.69828818, 0.30171182],\n",
              "       [0.59164657, 0.40835343],\n",
              "       [0.30292627, 0.69707373],\n",
              "       [0.20368896, 0.79631104],\n",
              "       [0.43637653, 0.56362347],\n",
              "       [0.63693833, 0.36306167],\n",
              "       [0.76292806, 0.23707194],\n",
              "       [0.29262803, 0.70737197],\n",
              "       [0.52155134, 0.47844866],\n",
              "       [0.48515188, 0.51484812],\n",
              "       [0.6588157 , 0.3411843 ],\n",
              "       [0.37646337, 0.62353663],\n",
              "       [0.30514316, 0.69485684],\n",
              "       [0.42229789, 0.57770211],\n",
              "       [0.53348648, 0.46651352],\n",
              "       [0.20305622, 0.79694378],\n",
              "       [0.58420924, 0.41579076],\n",
              "       [0.33679545, 0.66320455],\n",
              "       [0.50349899, 0.49650101],\n",
              "       [0.35744087, 0.64255913],\n",
              "       [0.72088973, 0.27911027],\n",
              "       [0.40393511, 0.59606489],\n",
              "       [0.63330017, 0.36669983],\n",
              "       [0.49017751, 0.50982249],\n",
              "       [0.32235922, 0.67764078],\n",
              "       [0.6121521 , 0.3878479 ],\n",
              "       [0.71511417, 0.28488583],\n",
              "       [0.43275261, 0.56724739],\n",
              "       [0.20880895, 0.79119105],\n",
              "       [0.7795717 , 0.2204283 ],\n",
              "       [0.53046631, 0.46953369],\n",
              "       [0.34693282, 0.65306718],\n",
              "       [0.49879507, 0.50120493],\n",
              "       [0.49056303, 0.50943697],\n",
              "       [0.1100598 , 0.8899402 ],\n",
              "       [0.11702064, 0.88297936],\n",
              "       [0.32405129, 0.67594871],\n",
              "       [0.62012786, 0.37987214],\n",
              "       [0.27236455, 0.72763545],\n",
              "       [0.59995578, 0.40004422],\n",
              "       [0.36815737, 0.63184263],\n",
              "       [0.55263925, 0.44736075],\n",
              "       [0.17895513, 0.82104487],\n",
              "       [0.69148104, 0.30851896],\n",
              "       [0.61506834, 0.38493166],\n",
              "       [0.42797324, 0.57202676],\n",
              "       [0.82856244, 0.17143756],\n",
              "       [0.31782976, 0.68217024],\n",
              "       [0.67996121, 0.32003879],\n",
              "       [0.57050543, 0.42949457],\n",
              "       [0.34801608, 0.65198392],\n",
              "       [0.4067255 , 0.5932745 ],\n",
              "       [0.29365536, 0.70634464],\n",
              "       [0.33370389, 0.66629611],\n",
              "       [0.58805218, 0.41194782],\n",
              "       [0.55763073, 0.44236927],\n",
              "       [0.69565999, 0.30434001],\n",
              "       [0.52637601, 0.47362399],\n",
              "       [0.22044562, 0.77955438],\n",
              "       [0.50345981, 0.49654019],\n",
              "       [0.39189314, 0.60810686],\n",
              "       [0.24337772, 0.75662228],\n",
              "       [0.78962291, 0.21037709],\n",
              "       [0.70825283, 0.29174717],\n",
              "       [0.58467814, 0.41532186],\n",
              "       [0.45258749, 0.54741251],\n",
              "       [0.2609008 , 0.7390992 ],\n",
              "       [0.49333628, 0.50666372],\n",
              "       [0.56709479, 0.43290521],\n",
              "       [0.37831275, 0.62168725],\n",
              "       [0.43346426, 0.56653574],\n",
              "       [0.33163065, 0.66836935],\n",
              "       [0.80999804, 0.19000196],\n",
              "       [0.49264306, 0.50735694],\n",
              "       [0.72560973, 0.27439027]])"
            ]
          },
          "metadata": {},
          "execution_count": 152
        }
      ],
      "source": [
        "lr_proba"
      ]
    },
    {
      "cell_type": "code",
      "execution_count": null,
      "metadata": {
        "id": "b3puxjF_d0lw",
        "colab": {
          "base_uri": "https://localhost:8080/"
        },
        "outputId": "d16ec0ab-35f4-457f-ebba-c2fccfbedce0"
      },
      "outputs": [
        {
          "output_type": "execute_result",
          "data": {
            "text/plain": [
              "array([1, 0, 0, 1, 1, 0, 0, 1, 1, 0, 0, 0, 1, 1, 0, 0, 0, 1, 1, 0, 1, 1,\n",
              "       1, 0])"
            ]
          },
          "metadata": {},
          "execution_count": 153
        }
      ],
      "source": [
        "y_pred=lr.predict(x_test)\n",
        "y_pred"
      ]
    },
    {
      "cell_type": "code",
      "execution_count": null,
      "metadata": {
        "id": "bEIWIFPYd0ly",
        "colab": {
          "base_uri": "https://localhost:8080/"
        },
        "outputId": "b9c3a06d-b3aa-4ffa-84ff-0bc6c8c8c67d"
      },
      "outputs": [
        {
          "output_type": "stream",
          "name": "stdout",
          "text": [
            "[1 0 0 1 1 1 0 1 0 0 0 0 1 1 0 0 0 1 1 0 1 1 1 0]\n"
          ]
        }
      ],
      "source": [
        "print(y_test.values)"
      ]
    },
    {
      "cell_type": "code",
      "execution_count": null,
      "metadata": {
        "id": "yRbKSqIBd0ly",
        "colab": {
          "base_uri": "https://localhost:8080/"
        },
        "outputId": "676bfdb3-1bcd-4b40-995c-273b517d945f"
      },
      "outputs": [
        {
          "output_type": "stream",
          "name": "stdout",
          "text": [
            "List of the Predicted Values:\n",
            "[1 0 0 1 1 0 0 1 1 0 0 0 1 1 0 0 0 1 1 0 1 1 1 0]\n"
          ]
        }
      ],
      "source": [
        "print(\"List of the Predicted Values:\")\n",
        "print(y_pred)"
      ]
    },
    {
      "cell_type": "markdown",
      "metadata": {
        "id": "wmnyAh3Cd0lz"
      },
      "source": [
        "### Accuracy and Efficiency of our Model "
      ]
    },
    {
      "cell_type": "code",
      "execution_count": null,
      "metadata": {
        "id": "oPFyt-lEd0lz",
        "colab": {
          "base_uri": "https://localhost:8080/"
        },
        "outputId": "f34f016d-919a-4af1-cde0-ec80f1a7fbb0"
      },
      "outputs": [
        {
          "output_type": "stream",
          "name": "stdout",
          "text": [
            "\n",
            "accuracy score:91.666667\n",
            "recall score:91.666667\n",
            "roc score:91.666667\n",
            "[[11  1]\n",
            " [ 1 11]]\n"
          ]
        }
      ],
      "source": [
        "from sklearn.metrics import accuracy_score,recall_score,roc_auc_score,confusion_matrix\n",
        "print(\"\\naccuracy score:%f\"%(accuracy_score(y_test,y_pred)*100))\n",
        "print(\"recall score:%f\"%(recall_score(y_test,y_pred)*100))\n",
        "print(\"roc score:%f\"%(roc_auc_score(y_test,y_pred)*100))\n",
        "print(confusion_matrix(y_test,y_pred))"
      ]
    },
    {
      "cell_type": "markdown",
      "metadata": {
        "id": "q_usnG3ld0l0"
      },
      "source": [
        "## Support Vector Classification to predict"
      ]
    },
    {
      "cell_type": "code",
      "execution_count": null,
      "metadata": {
        "id": "Hthp3efKd0l0"
      },
      "outputs": [],
      "source": [
        "from sklearn.svm import SVC\n",
        "svc=SVC(kernel='rbf',probability=True)\n",
        "svc_classifier=svc.fit(x_train,y_train)\n",
        "svc_acc=cross_val_score(svc_classifier,x_train_std,y_train,cv=3,scoring=\"accuracy\",n_jobs=-1)\n",
        "svc_proba=cross_val_predict(svc_classifier,x_train_std,y_train,cv=3,method='predict_proba')"
      ]
    },
    {
      "cell_type": "code",
      "execution_count": null,
      "metadata": {
        "id": "P6ZZ9pr5d0l1",
        "colab": {
          "base_uri": "https://localhost:8080/"
        },
        "outputId": "a9cbcfb4-5df5-4d87-a612-725087f4492f"
      },
      "outputs": [
        {
          "output_type": "execute_result",
          "data": {
            "text/plain": [
              "array([0.875     , 0.80645161, 0.87096774])"
            ]
          },
          "metadata": {},
          "execution_count": 158
        }
      ],
      "source": [
        "svc_acc"
      ]
    },
    {
      "cell_type": "code",
      "execution_count": null,
      "metadata": {
        "id": "d3QLXonmd0l1",
        "colab": {
          "base_uri": "https://localhost:8080/"
        },
        "outputId": "2b329344-7863-4924-83bf-29e734e0cdb6"
      },
      "outputs": [
        {
          "output_type": "execute_result",
          "data": {
            "text/plain": [
              "array([[4.94876556e-01, 5.05123444e-01],\n",
              "       [7.68438096e-02, 9.23156190e-01],\n",
              "       [9.80121644e-01, 1.98783563e-02],\n",
              "       [9.72197346e-01, 2.78026536e-02],\n",
              "       [4.26763672e-01, 5.73236328e-01],\n",
              "       [2.27992025e-01, 7.72007975e-01],\n",
              "       [1.56764434e-01, 8.43235566e-01],\n",
              "       [5.65502680e-01, 4.34497320e-01],\n",
              "       [9.81921914e-01, 1.80780858e-02],\n",
              "       [3.98693961e-01, 6.01306039e-01],\n",
              "       [2.92440744e-02, 9.70755926e-01],\n",
              "       [9.73005758e-01, 2.69942418e-02],\n",
              "       [9.97493409e-01, 2.50659071e-03],\n",
              "       [1.53494515e-01, 8.46505485e-01],\n",
              "       [1.12731440e-01, 8.87268560e-01],\n",
              "       [8.02403108e-01, 1.97596892e-01],\n",
              "       [8.77971728e-01, 1.22028272e-01],\n",
              "       [1.33309807e-01, 8.66690193e-01],\n",
              "       [9.86680629e-01, 1.33193710e-02],\n",
              "       [9.30641978e-01, 6.93580225e-02],\n",
              "       [9.43029713e-01, 5.69702872e-02],\n",
              "       [2.14992430e-02, 9.78500757e-01],\n",
              "       [2.79127227e-02, 9.72087277e-01],\n",
              "       [6.98806586e-01, 3.01193414e-01],\n",
              "       [9.34398974e-01, 6.56010260e-02],\n",
              "       [9.96326946e-01, 3.67305391e-03],\n",
              "       [6.55849995e-02, 9.34415001e-01],\n",
              "       [4.42968338e-01, 5.57031662e-01],\n",
              "       [6.53962964e-01, 3.46037036e-01],\n",
              "       [9.13545755e-01, 8.64542451e-02],\n",
              "       [1.37788001e-01, 8.62211999e-01],\n",
              "       [1.49781582e-01, 8.50218418e-01],\n",
              "       [1.38423852e-01, 8.61576148e-01],\n",
              "       [5.05746801e-01, 4.94253199e-01],\n",
              "       [1.53580522e-02, 9.84641948e-01],\n",
              "       [8.17408888e-01, 1.82591112e-01],\n",
              "       [3.89693846e-02, 9.61030615e-01],\n",
              "       [7.03023222e-01, 2.96976778e-01],\n",
              "       [3.76069041e-02, 9.62393096e-01],\n",
              "       [9.85890408e-01, 1.41095922e-02],\n",
              "       [1.10631784e-01, 8.89368216e-01],\n",
              "       [9.04498295e-01, 9.55017054e-02],\n",
              "       [3.81270223e-01, 6.18729777e-01],\n",
              "       [5.71948079e-02, 9.42805192e-01],\n",
              "       [9.75921177e-01, 2.40788225e-02],\n",
              "       [9.58883303e-01, 4.11166973e-02],\n",
              "       [3.85584002e-01, 6.14415998e-01],\n",
              "       [6.95809585e-03, 9.93041904e-01],\n",
              "       [9.87451656e-01, 1.25483443e-02],\n",
              "       [1.55240084e-01, 8.44759916e-01],\n",
              "       [1.26400431e-01, 8.73599569e-01],\n",
              "       [6.80092065e-01, 3.19907935e-01],\n",
              "       [3.40800426e-01, 6.59199574e-01],\n",
              "       [5.76865242e-03, 9.94231348e-01],\n",
              "       [1.50187779e-05, 9.99984981e-01],\n",
              "       [6.43222839e-02, 9.35677716e-01],\n",
              "       [3.31393560e-01, 6.68606440e-01],\n",
              "       [2.10055743e-02, 9.78994426e-01],\n",
              "       [9.29322362e-01, 7.06776381e-02],\n",
              "       [2.54254687e-01, 7.45745313e-01],\n",
              "       [6.51846295e-01, 3.48153705e-01],\n",
              "       [4.14606953e-03, 9.95853930e-01],\n",
              "       [7.63960978e-01, 2.36039022e-01],\n",
              "       [8.33427111e-01, 1.66572889e-01],\n",
              "       [4.79465387e-01, 5.20534613e-01],\n",
              "       [9.95838886e-01, 4.16111449e-03],\n",
              "       [2.77159083e-01, 7.22840917e-01],\n",
              "       [7.48541029e-01, 2.51458971e-01],\n",
              "       [7.07354352e-01, 2.92645648e-01],\n",
              "       [7.24784380e-02, 9.27521562e-01],\n",
              "       [1.88010759e-01, 8.11989241e-01],\n",
              "       [9.74292730e-02, 9.02570727e-01],\n",
              "       [1.47021471e-01, 8.52978529e-01],\n",
              "       [9.19197382e-01, 8.08026183e-02],\n",
              "       [7.46722567e-01, 2.53277433e-01],\n",
              "       [9.08587563e-01, 9.14124366e-02],\n",
              "       [5.47180542e-01, 4.52819458e-01],\n",
              "       [1.94561864e-01, 8.05438136e-01],\n",
              "       [6.00015928e-01, 3.99984072e-01],\n",
              "       [3.60759463e-01, 6.39240537e-01],\n",
              "       [8.49036501e-02, 9.15096350e-01],\n",
              "       [9.79008357e-01, 2.09916427e-02],\n",
              "       [9.35899926e-01, 6.41000738e-02],\n",
              "       [5.96951189e-01, 4.03048811e-01],\n",
              "       [3.15668653e-01, 6.84331347e-01],\n",
              "       [3.89911891e-02, 9.61008811e-01],\n",
              "       [2.10602307e-01, 7.89397693e-01],\n",
              "       [8.29473227e-01, 1.70526773e-01],\n",
              "       [1.31232861e-01, 8.68767139e-01],\n",
              "       [4.80235004e-01, 5.19764996e-01],\n",
              "       [8.81305274e-02, 9.11869473e-01],\n",
              "       [9.56909981e-01, 4.30900194e-02],\n",
              "       [5.52481194e-01, 4.47518806e-01],\n",
              "       [8.62248644e-01, 1.37751356e-01]])"
            ]
          },
          "metadata": {},
          "execution_count": 159
        }
      ],
      "source": [
        "svc_proba"
      ]
    },
    {
      "cell_type": "code",
      "execution_count": null,
      "metadata": {
        "id": "boYUe4BRd0l2",
        "colab": {
          "base_uri": "https://localhost:8080/"
        },
        "outputId": "22664f39-d4d3-409c-e83f-8c2dcb7bdfdc"
      },
      "outputs": [
        {
          "output_type": "execute_result",
          "data": {
            "text/plain": [
              "array([0.50512344, 0.92315619, 0.01987836, 0.02780265, 0.57323633,\n",
              "       0.77200797, 0.84323557, 0.43449732, 0.01807809, 0.60130604,\n",
              "       0.97075593, 0.02699424, 0.00250659, 0.84650548, 0.88726856,\n",
              "       0.19759689, 0.12202827, 0.86669019, 0.01331937, 0.06935802,\n",
              "       0.05697029, 0.97850076, 0.97208728, 0.30119341, 0.06560103,\n",
              "       0.00367305, 0.934415  , 0.55703166, 0.34603704, 0.08645425,\n",
              "       0.862212  , 0.85021842, 0.86157615, 0.4942532 , 0.98464195,\n",
              "       0.18259111, 0.96103062, 0.29697678, 0.9623931 , 0.01410959,\n",
              "       0.88936822, 0.09550171, 0.61872978, 0.94280519, 0.02407882,\n",
              "       0.0411167 , 0.614416  , 0.9930419 , 0.01254834, 0.84475992,\n",
              "       0.87359957, 0.31990793, 0.65919957, 0.99423135, 0.99998498,\n",
              "       0.93567772, 0.66860644, 0.97899443, 0.07067764, 0.74574531,\n",
              "       0.34815371, 0.99585393, 0.23603902, 0.16657289, 0.52053461,\n",
              "       0.00416111, 0.72284092, 0.25145897, 0.29264565, 0.92752156,\n",
              "       0.81198924, 0.90257073, 0.85297853, 0.08080262, 0.25327743,\n",
              "       0.09141244, 0.45281946, 0.80543814, 0.39998407, 0.63924054,\n",
              "       0.91509635, 0.02099164, 0.06410007, 0.40304881, 0.68433135,\n",
              "       0.96100881, 0.78939769, 0.17052677, 0.86876714, 0.519765  ,\n",
              "       0.91186947, 0.04309002, 0.44751881, 0.13775136])"
            ]
          },
          "metadata": {},
          "execution_count": 160
        }
      ],
      "source": [
        "svc_scores=svc_proba[:,1]\n",
        "svc_scores"
      ]
    },
    {
      "cell_type": "code",
      "execution_count": null,
      "metadata": {
        "id": "KAULTBdYd0l3",
        "colab": {
          "base_uri": "https://localhost:8080/"
        },
        "outputId": "c98960fb-af2a-4981-bcb7-e4ee06665f49"
      },
      "outputs": [
        {
          "output_type": "stream",
          "name": "stdout",
          "text": [
            "Actual Flood Values:\n",
            "[1 0 0 1 1 1 0 1 0 0 0 0 1 1 0 0 0 1 1 0 1 1 1 0]\n"
          ]
        }
      ],
      "source": [
        "y_pred=svc_classifier.predict(x_test)\n",
        "print(\"Actual Flood Values:\")\n",
        "print(y_test.values)"
      ]
    },
    {
      "cell_type": "code",
      "execution_count": null,
      "metadata": {
        "id": "7YjVKe3Ed0l3",
        "colab": {
          "base_uri": "https://localhost:8080/"
        },
        "outputId": "dd4c2b10-c21b-4e08-84f7-566f28cac12e"
      },
      "outputs": [
        {
          "output_type": "stream",
          "name": "stdout",
          "text": [
            "Predicted Flood Values:\n",
            "[1 0 0 1 0 0 0 0 1 0 0 0 1 1 0 0 0 1 1 0 1 1 1 0]\n"
          ]
        }
      ],
      "source": [
        "print(\"Predicted Flood Values:\")\n",
        "print(y_pred)"
      ]
    },
    {
      "cell_type": "markdown",
      "metadata": {
        "id": "m2w7XG2xd0l4"
      },
      "source": [
        "### Accuracy of our model"
      ]
    },
    {
      "cell_type": "code",
      "execution_count": null,
      "metadata": {
        "id": "KHy00Cazd0l4",
        "colab": {
          "base_uri": "https://localhost:8080/"
        },
        "outputId": "8b442288-725d-4782-f414-6d65f3b7c835"
      },
      "outputs": [
        {
          "output_type": "stream",
          "name": "stdout",
          "text": [
            "\n",
            "accuracy score:83.333333\n",
            "recall score:75.000000\n",
            "roc score:83.333333\n",
            "[[11  1]\n",
            " [ 3  9]]\n"
          ]
        }
      ],
      "source": [
        "from sklearn.metrics import accuracy_score,recall_score,roc_auc_score,confusion_matrix\n",
        "print(\"\\naccuracy score:%f\"%(accuracy_score(y_test,y_pred)*100))\n",
        "print(\"recall score:%f\"%(recall_score(y_test,y_pred)*100))\n",
        "print(\"roc score:%f\"%(roc_auc_score(y_test,y_pred)*100))\n",
        "print(confusion_matrix(y_test,y_pred))"
      ]
    },
    {
      "cell_type": "markdown",
      "metadata": {
        "id": "SH022GM7d0l4"
      },
      "source": [
        "# Decision Tree Classification to Predict"
      ]
    },
    {
      "cell_type": "code",
      "execution_count": null,
      "metadata": {
        "id": "NTH8EbpNd0l5",
        "colab": {
          "base_uri": "https://localhost:8080/"
        },
        "outputId": "f45f9455-6692-4102-98bb-48b87c4576e7"
      },
      "outputs": [
        {
          "output_type": "execute_result",
          "data": {
            "text/plain": [
              "array([0.65625   , 0.77419355, 0.64516129])"
            ]
          },
          "metadata": {},
          "execution_count": 164
        }
      ],
      "source": [
        "from sklearn.tree import DecisionTreeClassifier\n",
        "dtc_clf=DecisionTreeClassifier()\n",
        "dtc_clf.fit(x_train,y_train)\n",
        "dtc_clf_acc=cross_val_score(dtc_clf,x_train_std,y_train,cv=3,scoring=\"accuracy\",n_jobs=-1)\n",
        "dtc_clf_acc"
      ]
    },
    {
      "cell_type": "code",
      "execution_count": null,
      "metadata": {
        "id": "WJNAEavvd0l5",
        "colab": {
          "base_uri": "https://localhost:8080/"
        },
        "outputId": "f1dde21d-b006-45be-c178-47dc5b1527a7"
      },
      "outputs": [
        {
          "output_type": "stream",
          "name": "stdout",
          "text": [
            "Predicted Values:\n"
          ]
        },
        {
          "output_type": "execute_result",
          "data": {
            "text/plain": [
              "array([0, 1, 0, 1, 1, 0, 1, 1, 1, 0, 1, 0, 1, 1, 0, 0, 0, 0, 1, 1, 1, 1,\n",
              "       1, 0])"
            ]
          },
          "metadata": {},
          "execution_count": 165
        }
      ],
      "source": [
        "print(\"Predicted Values:\")\n",
        "y_pred=dtc_clf.predict(x_test)\n",
        "y_pred"
      ]
    },
    {
      "cell_type": "code",
      "execution_count": null,
      "metadata": {
        "id": "4ODL21E0d0l5",
        "colab": {
          "base_uri": "https://localhost:8080/"
        },
        "outputId": "26d850df-550c-4550-d8ab-b50b0c559404"
      },
      "outputs": [
        {
          "output_type": "stream",
          "name": "stdout",
          "text": [
            "Actual Values:\n",
            "[1 0 0 1 1 1 0 1 0 0 0 0 1 1 0 0 0 1 1 0 1 1 1 0]\n"
          ]
        }
      ],
      "source": [
        "print(\"Actual Values:\")\n",
        "print(y_test.values)"
      ]
    },
    {
      "cell_type": "markdown",
      "metadata": {
        "id": "raYY51wSd0l5"
      },
      "source": [
        "### Printing the Accuracy"
      ]
    },
    {
      "cell_type": "code",
      "execution_count": null,
      "metadata": {
        "id": "homZhZYkd0l5",
        "colab": {
          "base_uri": "https://localhost:8080/"
        },
        "outputId": "a8890829-1024-4baf-8846-fdb15bc94756"
      },
      "outputs": [
        {
          "output_type": "stream",
          "name": "stdout",
          "text": [
            "\n",
            "accuracy score:66.666667\n",
            "recall score:75.000000\n",
            "roc score:66.666667\n",
            "[[7 5]\n",
            " [3 9]]\n"
          ]
        }
      ],
      "source": [
        "from sklearn.metrics import accuracy_score,recall_score,roc_auc_score,confusion_matrix\n",
        "print(\"\\naccuracy score:%f\"%(accuracy_score(y_test,y_pred)*100))\n",
        "print(\"recall score:%f\"%(recall_score(y_test,y_pred)*100))\n",
        "print(\"roc score:%f\"%(roc_auc_score(y_test,y_pred)*100))\n",
        "print(confusion_matrix(y_test,y_pred))"
      ]
    },
    {
      "cell_type": "markdown",
      "metadata": {
        "id": "1Ggb8nOKd0l6"
      },
      "source": [
        "# Random Forest Classifier to predict"
      ]
    },
    {
      "cell_type": "code",
      "execution_count": null,
      "metadata": {
        "id": "26-IoYB1d0l6",
        "colab": {
          "base_uri": "https://localhost:8080/"
        },
        "outputId": "dd08237f-cdf9-4bc7-f387-bb5da500cf3d"
      },
      "outputs": [
        {
          "output_type": "execute_result",
          "data": {
            "text/plain": [
              "RandomForestClassifier(max_depth=3, random_state=0)"
            ]
          },
          "metadata": {},
          "execution_count": 168
        }
      ],
      "source": [
        "from sklearn.ensemble import RandomForestClassifier\n",
        "rmf=RandomForestClassifier(max_depth=3,random_state=0)\n",
        "rmf_clf=rmf.fit(x_train,y_train)\n",
        "rmf_clf"
      ]
    },
    {
      "cell_type": "code",
      "execution_count": null,
      "metadata": {
        "id": "0q_BRaDRd0l7"
      },
      "outputs": [],
      "source": [
        "rmf_clf_acc=cross_val_score(rmf_clf,x_train_std,y_train,cv=3,scoring=\"accuracy\",n_jobs=-1)\n",
        "rmf_proba=cross_val_predict(rmf_clf,x_train_std,y_train,cv=3,method='predict_proba')"
      ]
    },
    {
      "cell_type": "code",
      "execution_count": null,
      "metadata": {
        "id": "EUDiDZYdd0l7",
        "colab": {
          "base_uri": "https://localhost:8080/"
        },
        "outputId": "d2bda898-a866-4afe-b66b-fb8c603147f2"
      },
      "outputs": [
        {
          "output_type": "execute_result",
          "data": {
            "text/plain": [
              "array([0.8125    , 0.90322581, 0.87096774])"
            ]
          },
          "metadata": {},
          "execution_count": 170
        }
      ],
      "source": [
        "rmf_clf_acc"
      ]
    },
    {
      "cell_type": "code",
      "execution_count": null,
      "metadata": {
        "id": "sAuLjLT8d0l7",
        "colab": {
          "base_uri": "https://localhost:8080/"
        },
        "outputId": "8b3a9dc7-afbd-4e0e-8faa-ccc1cda72bbf"
      },
      "outputs": [
        {
          "output_type": "execute_result",
          "data": {
            "text/plain": [
              "array([[0.61267779, 0.38732221],\n",
              "       [0.12138157, 0.87861843],\n",
              "       [0.56488765, 0.43511235],\n",
              "       [0.55732289, 0.44267711],\n",
              "       [0.43713922, 0.56286078],\n",
              "       [0.47515288, 0.52484712],\n",
              "       [0.28300609, 0.71699391],\n",
              "       [0.46532358, 0.53467642],\n",
              "       [0.63876007, 0.36123993],\n",
              "       [0.63097309, 0.36902691],\n",
              "       [0.34448292, 0.65551708],\n",
              "       [0.69571705, 0.30428295],\n",
              "       [0.86785821, 0.13214179],\n",
              "       [0.37553576, 0.62446424],\n",
              "       [0.40497217, 0.59502783],\n",
              "       [0.6837702 , 0.3162298 ],\n",
              "       [0.71162312, 0.28837688],\n",
              "       [0.29891597, 0.70108403],\n",
              "       [0.81656565, 0.18343435],\n",
              "       [0.54455446, 0.45544554],\n",
              "       [0.65521616, 0.34478384],\n",
              "       [0.2265199 , 0.7734801 ],\n",
              "       [0.19784099, 0.80215901],\n",
              "       [0.49104117, 0.50895883],\n",
              "       [0.72138052, 0.27861948],\n",
              "       [0.70579361, 0.29420639],\n",
              "       [0.33565025, 0.66434975],\n",
              "       [0.28443367, 0.71556633],\n",
              "       [0.60922098, 0.39077902],\n",
              "       [0.73470293, 0.26529707],\n",
              "       [0.33701433, 0.66298567],\n",
              "       [0.57884144, 0.42115856],\n",
              "       [0.54222476, 0.45777524],\n",
              "       [0.61919924, 0.38080076],\n",
              "       [0.24094125, 0.75905875],\n",
              "       [0.75675277, 0.24324723],\n",
              "       [0.39939884, 0.60060116],\n",
              "       [0.71491856, 0.28508144],\n",
              "       [0.2437568 , 0.7562432 ],\n",
              "       [0.70489909, 0.29510091],\n",
              "       [0.14783474, 0.85216526],\n",
              "       [0.61660567, 0.38339433],\n",
              "       [0.33964632, 0.66035368],\n",
              "       [0.36234648, 0.63765352],\n",
              "       [0.73997446, 0.26002554],\n",
              "       [0.70894525, 0.29105475],\n",
              "       [0.38084274, 0.61915726],\n",
              "       [0.23179121, 0.76820879],\n",
              "       [0.78780116, 0.21219884],\n",
              "       [0.61586833, 0.38413167],\n",
              "       [0.29014423, 0.70985577],\n",
              "       [0.54811299, 0.45188701],\n",
              "       [0.37447115, 0.62552885],\n",
              "       [0.23451744, 0.76548256],\n",
              "       [0.11607162, 0.88392838],\n",
              "       [0.2180713 , 0.7819287 ],\n",
              "       [0.68521896, 0.31478104],\n",
              "       [0.45134202, 0.54865798],\n",
              "       [0.61641552, 0.38358448],\n",
              "       [0.50346826, 0.49653174],\n",
              "       [0.5220057 , 0.4779943 ],\n",
              "       [0.37205278, 0.62794722],\n",
              "       [0.68144693, 0.31855307],\n",
              "       [0.66096432, 0.33903568],\n",
              "       [0.49160414, 0.50839586],\n",
              "       [0.8644463 , 0.1355537 ],\n",
              "       [0.44143204, 0.55856796],\n",
              "       [0.72334185, 0.27665815],\n",
              "       [0.57434596, 0.42565404],\n",
              "       [0.37208771, 0.62791229],\n",
              "       [0.46097913, 0.53902087],\n",
              "       [0.42024134, 0.57975866],\n",
              "       [0.36463066, 0.63536934],\n",
              "       [0.56903349, 0.43096651],\n",
              "       [0.67180692, 0.32819308],\n",
              "       [0.77400062, 0.22599938],\n",
              "       [0.45522984, 0.54477016],\n",
              "       [0.29183202, 0.70816798],\n",
              "       [0.64842891, 0.35157109],\n",
              "       [0.43496906, 0.56503094],\n",
              "       [0.35996469, 0.64003531],\n",
              "       [0.67523532, 0.32476468],\n",
              "       [0.4785641 , 0.5214359 ],\n",
              "       [0.56253249, 0.43746751],\n",
              "       [0.3186911 , 0.6813089 ],\n",
              "       [0.34402472, 0.65597528],\n",
              "       [0.46193774, 0.53806226],\n",
              "       [0.57312808, 0.42687192],\n",
              "       [0.34543986, 0.65456014],\n",
              "       [0.52714039, 0.47285961],\n",
              "       [0.37913208, 0.62086792],\n",
              "       [0.86055028, 0.13944972],\n",
              "       [0.36865668, 0.63134332],\n",
              "       [0.69461752, 0.30538248]])"
            ]
          },
          "metadata": {},
          "execution_count": 171
        }
      ],
      "source": [
        "rmf_proba"
      ]
    },
    {
      "cell_type": "code",
      "execution_count": null,
      "metadata": {
        "id": "MFbYFQVid0l8",
        "colab": {
          "base_uri": "https://localhost:8080/"
        },
        "outputId": "317a770b-6f0d-498d-9e2f-6d56f22c2476"
      },
      "outputs": [
        {
          "output_type": "stream",
          "name": "stdout",
          "text": [
            "\n",
            "accuracy score:66.666667\n",
            "recall score:75.000000\n",
            "roc score:66.666667\n",
            "[[7 5]\n",
            " [3 9]]\n"
          ]
        }
      ],
      "source": [
        "from sklearn.metrics import accuracy_score,recall_score,roc_auc_score,confusion_matrix\n",
        "print(\"\\naccuracy score:%f\"%(accuracy_score(y_test,y_pred)*100))\n",
        "print(\"recall score:%f\"%(recall_score(y_test,y_pred)*100))\n",
        "print(\"roc score:%f\"%(roc_auc_score(y_test,y_pred)*100))\n",
        "print(confusion_matrix(y_test,y_pred))"
      ]
    },
    {
      "cell_type": "markdown",
      "metadata": {
        "id": "8BpO8Ca-d0l8"
      },
      "source": [
        "# Final Accuracy of our Models "
      ]
    },
    {
      "cell_type": "markdown",
      "metadata": {
        "id": "AOBFCnord0l8"
      },
      "source": [
        "### Comparing all the prediction models"
      ]
    },
    {
      "cell_type": "code",
      "execution_count": null,
      "metadata": {
        "id": "zUn20B01d0l9",
        "colab": {
          "base_uri": "https://localhost:8080/",
          "height": 345
        },
        "outputId": "1197ea19-aad9-4208-de96-a955f839f213"
      },
      "outputs": [
        {
          "output_type": "stream",
          "name": "stderr",
          "text": [
            "/usr/local/lib/python3.7/dist-packages/sklearn/linear_model/_logistic.py:818: ConvergenceWarning: lbfgs failed to converge (status=1):\n",
            "STOP: TOTAL NO. of ITERATIONS REACHED LIMIT.\n",
            "\n",
            "Increase the number of iterations (max_iter) or scale the data as shown in:\n",
            "    https://scikit-learn.org/stable/modules/preprocessing.html\n",
            "Please also refer to the documentation for alternative solver options:\n",
            "    https://scikit-learn.org/stable/modules/linear_model.html#logistic-regression\n",
            "  extra_warning_msg=_LOGISTIC_SOLVER_CONVERGENCE_MSG,\n"
          ]
        },
        {
          "output_type": "execute_result",
          "data": {
            "text/plain": [
              "  Name     Score\n",
              "0  KNN  0.750000\n",
              "1   LR  0.916667\n",
              "2  SVC  0.833333\n",
              "3   DT  0.666667\n",
              "4   RF  0.708333"
            ],
            "text/html": [
              "\n",
              "  <div id=\"df-99d01767-a338-4b35-979c-0ac0b741708b\">\n",
              "    <div class=\"colab-df-container\">\n",
              "      <div>\n",
              "<style scoped>\n",
              "    .dataframe tbody tr th:only-of-type {\n",
              "        vertical-align: middle;\n",
              "    }\n",
              "\n",
              "    .dataframe tbody tr th {\n",
              "        vertical-align: top;\n",
              "    }\n",
              "\n",
              "    .dataframe thead th {\n",
              "        text-align: right;\n",
              "    }\n",
              "</style>\n",
              "<table border=\"1\" class=\"dataframe\">\n",
              "  <thead>\n",
              "    <tr style=\"text-align: right;\">\n",
              "      <th></th>\n",
              "      <th>Name</th>\n",
              "      <th>Score</th>\n",
              "    </tr>\n",
              "  </thead>\n",
              "  <tbody>\n",
              "    <tr>\n",
              "      <th>0</th>\n",
              "      <td>KNN</td>\n",
              "      <td>0.750000</td>\n",
              "    </tr>\n",
              "    <tr>\n",
              "      <th>1</th>\n",
              "      <td>LR</td>\n",
              "      <td>0.916667</td>\n",
              "    </tr>\n",
              "    <tr>\n",
              "      <th>2</th>\n",
              "      <td>SVC</td>\n",
              "      <td>0.833333</td>\n",
              "    </tr>\n",
              "    <tr>\n",
              "      <th>3</th>\n",
              "      <td>DT</td>\n",
              "      <td>0.666667</td>\n",
              "    </tr>\n",
              "    <tr>\n",
              "      <th>4</th>\n",
              "      <td>RF</td>\n",
              "      <td>0.708333</td>\n",
              "    </tr>\n",
              "  </tbody>\n",
              "</table>\n",
              "</div>\n",
              "      <button class=\"colab-df-convert\" onclick=\"convertToInteractive('df-99d01767-a338-4b35-979c-0ac0b741708b')\"\n",
              "              title=\"Convert this dataframe to an interactive table.\"\n",
              "              style=\"display:none;\">\n",
              "        \n",
              "  <svg xmlns=\"http://www.w3.org/2000/svg\" height=\"24px\"viewBox=\"0 0 24 24\"\n",
              "       width=\"24px\">\n",
              "    <path d=\"M0 0h24v24H0V0z\" fill=\"none\"/>\n",
              "    <path d=\"M18.56 5.44l.94 2.06.94-2.06 2.06-.94-2.06-.94-.94-2.06-.94 2.06-2.06.94zm-11 1L8.5 8.5l.94-2.06 2.06-.94-2.06-.94L8.5 2.5l-.94 2.06-2.06.94zm10 10l.94 2.06.94-2.06 2.06-.94-2.06-.94-.94-2.06-.94 2.06-2.06.94z\"/><path d=\"M17.41 7.96l-1.37-1.37c-.4-.4-.92-.59-1.43-.59-.52 0-1.04.2-1.43.59L10.3 9.45l-7.72 7.72c-.78.78-.78 2.05 0 2.83L4 21.41c.39.39.9.59 1.41.59.51 0 1.02-.2 1.41-.59l7.78-7.78 2.81-2.81c.8-.78.8-2.07 0-2.86zM5.41 20L4 18.59l7.72-7.72 1.47 1.35L5.41 20z\"/>\n",
              "  </svg>\n",
              "      </button>\n",
              "      \n",
              "  <style>\n",
              "    .colab-df-container {\n",
              "      display:flex;\n",
              "      flex-wrap:wrap;\n",
              "      gap: 12px;\n",
              "    }\n",
              "\n",
              "    .colab-df-convert {\n",
              "      background-color: #E8F0FE;\n",
              "      border: none;\n",
              "      border-radius: 50%;\n",
              "      cursor: pointer;\n",
              "      display: none;\n",
              "      fill: #1967D2;\n",
              "      height: 32px;\n",
              "      padding: 0 0 0 0;\n",
              "      width: 32px;\n",
              "    }\n",
              "\n",
              "    .colab-df-convert:hover {\n",
              "      background-color: #E2EBFA;\n",
              "      box-shadow: 0px 1px 2px rgba(60, 64, 67, 0.3), 0px 1px 3px 1px rgba(60, 64, 67, 0.15);\n",
              "      fill: #174EA6;\n",
              "    }\n",
              "\n",
              "    [theme=dark] .colab-df-convert {\n",
              "      background-color: #3B4455;\n",
              "      fill: #D2E3FC;\n",
              "    }\n",
              "\n",
              "    [theme=dark] .colab-df-convert:hover {\n",
              "      background-color: #434B5C;\n",
              "      box-shadow: 0px 1px 3px 1px rgba(0, 0, 0, 0.15);\n",
              "      filter: drop-shadow(0px 1px 2px rgba(0, 0, 0, 0.3));\n",
              "      fill: #FFFFFF;\n",
              "    }\n",
              "  </style>\n",
              "\n",
              "      <script>\n",
              "        const buttonEl =\n",
              "          document.querySelector('#df-99d01767-a338-4b35-979c-0ac0b741708b button.colab-df-convert');\n",
              "        buttonEl.style.display =\n",
              "          google.colab.kernel.accessAllowed ? 'block' : 'none';\n",
              "\n",
              "        async function convertToInteractive(key) {\n",
              "          const element = document.querySelector('#df-99d01767-a338-4b35-979c-0ac0b741708b');\n",
              "          const dataTable =\n",
              "            await google.colab.kernel.invokeFunction('convertToInteractive',\n",
              "                                                     [key], {});\n",
              "          if (!dataTable) return;\n",
              "\n",
              "          const docLinkHtml = 'Like what you see? Visit the ' +\n",
              "            '<a target=\"_blank\" href=https://colab.research.google.com/notebooks/data_table.ipynb>data table notebook</a>'\n",
              "            + ' to learn more about interactive tables.';\n",
              "          element.innerHTML = '';\n",
              "          dataTable['output_type'] = 'display_data';\n",
              "          await google.colab.output.renderOutput(dataTable, element);\n",
              "          const docLink = document.createElement('div');\n",
              "          docLink.innerHTML = docLinkHtml;\n",
              "          element.appendChild(docLink);\n",
              "        }\n",
              "      </script>\n",
              "    </div>\n",
              "  </div>\n",
              "  "
            ]
          },
          "metadata": {},
          "execution_count": 173
        }
      ],
      "source": [
        "models = []\n",
        "from sklearn.neighbors import KNeighborsClassifier\n",
        "from sklearn.svm import SVC\n",
        "from sklearn.linear_model import LogisticRegression\n",
        "from sklearn.tree import DecisionTreeClassifier\n",
        "from sklearn.naive_bayes import GaussianNB\n",
        "from sklearn.ensemble import RandomForestClassifier\n",
        "from sklearn.ensemble import GradientBoostingClassifier\n",
        "models.append(('KNN', KNeighborsClassifier()))\n",
        "models.append(('LR', LogisticRegression()))\n",
        "models.append(('SVC', SVC()))\n",
        "models.append(('DT', DecisionTreeClassifier()))\n",
        "models.append(('RF', RandomForestClassifier()))\n",
        "\n",
        "names = []\n",
        "scores = []\n",
        "for name, model in models:\n",
        "    model.fit(x_train, y_train)\n",
        "    y_pred = model.predict(x_test)\n",
        "    scores.append(accuracy_score(y_test, y_pred))\n",
        "    names.append(name)\n",
        "tr_split = pd.DataFrame({'Name': names, 'Score': scores})\n",
        "tr_split"
      ]
    },
    {
      "cell_type": "code",
      "execution_count": null,
      "metadata": {
        "id": "Cn1kAr2Zd0l9",
        "colab": {
          "base_uri": "https://localhost:8080/",
          "height": 279
        },
        "outputId": "333a8086-0f4b-4435-ca37-c827e7a974a9"
      },
      "outputs": [
        {
          "output_type": "display_data",
          "data": {
            "text/plain": [
              "<Figure size 432x288 with 1 Axes>"
            ],
            "image/png": "[encoded data removed]"
          },
          "metadata": {
            "needs_background": "light"
          }
        }
      ],
      "source": [
        "import seaborn as sns\n",
        "axis = sns.barplot(x = 'Name', y = 'Score', data =tr_split )\n",
        "axis.set(xlabel='Classifier Models', ylabel='Accuracy of the Model')\n",
        "for p in axis.patches:\n",
        "    height = p.get_height()\n",
        "    axis.text(p.get_x() + p.get_width()/2, height + 0.01, '{:1.4f}'.format(height), ha=\"center\") \n",
        "    \n",
        "plt.show()"
      ]
    },
    {
      "cell_type": "code",
      "execution_count": null,
      "metadata": {
        "id": "0AyAXcF5d0l-",
        "colab": {
          "base_uri": "https://localhost:8080/"
        },
        "outputId": "897b8c88-5d20-419b-b838-21c67f5751b8"
      },
      "outputs": [
        {
          "output_type": "execute_result",
          "data": {
            "text/plain": [
              "0.9166666666666666"
            ]
          },
          "metadata": {},
          "execution_count": 175
        }
      ],
      "source": [
        "tr_split['Score'].max() "
      ]
    },
    {
      "cell_type": "markdown",
      "metadata": {
        "id": "hCMRyDxYd0l-"
      },
      "source": [
        "## Prediction based on random Input"
      ]
    },
    {
      "cell_type": "code",
      "source": [
        "import requests\n",
        "URL = \" https://api.thingspeak.com/channels/1525190/feeds.json?results=2\"\n",
        "  \n",
        "\n",
        "  \n",
        "# sending get request and saving the response as response object\n",
        "r = requests.get(url = URL)\n",
        "  \n",
        "# extracting data in json format\n",
        "data = r.json()\n",
        "\n",
        "print(data['feeds'][0]['field1'])\n",
        "print(data['feeds'][1]['field1'])"
      ],
      "metadata": {
        "colab": {
          "base_uri": "https://localhost:8080/"
        },
        "id": "J-hgAC_Tyt-r",
        "outputId": "4f656914-4eb7-4613-f2dc-eb959ab61a8d"
      },
      "execution_count": null,
      "outputs": [
        {
          "output_type": "stream",
          "name": "stdout",
          "text": [
            "239\n",
            "1188\n"
          ]
        }
      ]
    },
    {
      "cell_type": "code",
      "execution_count": null,
      "metadata": {
        "id": "kMfkG3v8d0l-"
      },
      "outputs": [],
      "source": [
        "my1=[2019,29.1,52.1,50.6,116.4,183.8,625.4,1048.5,357.5,data['feeds'][0]['field1'],266.9,350.8,48.4]\n",
        "my2=[2020,25.1,52.1,50.6,118.4,183.8,665.4,1048.5,317.5,197.7,data['feeds'][1]['field1'],350.8,48.4]\n",
        "my=[my1,my2]"
      ]
    },
    {
      "cell_type": "code",
      "execution_count": null,
      "metadata": {
        "id": "wUvtR_Bid0l_",
        "colab": {
          "base_uri": "https://localhost:8080/"
        },
        "outputId": "b4ec24ba-d557-480a-9c8c-f2d3e4e85fdf"
      },
      "outputs": [
        {
          "output_type": "stream",
          "name": "stderr",
          "text": [
            "/usr/local/lib/python3.7/dist-packages/sklearn/linear_model/_logistic.py:818: ConvergenceWarning: lbfgs failed to converge (status=1):\n",
            "STOP: TOTAL NO. of ITERATIONS REACHED LIMIT.\n",
            "\n",
            "Increase the number of iterations (max_iter) or scale the data as shown in:\n",
            "    https://scikit-learn.org/stable/modules/preprocessing.html\n",
            "Please also refer to the documentation for alternative solver options:\n",
            "    https://scikit-learn.org/stable/modules/linear_model.html#logistic-regression\n",
            "  extra_warning_msg=_LOGISTIC_SOLVER_CONVERGENCE_MSG,\n",
            "/usr/local/lib/python3.7/dist-packages/sklearn/base.py:451: UserWarning: X does not have valid feature names, but LogisticRegression was fitted with feature names\n",
            "  \"X does not have valid feature names, but\"\n",
            "/usr/local/lib/python3.7/dist-packages/sklearn/base.py:566: FutureWarning: Arrays of bytes/strings is being converted to decimal numbers if dtype='numeric'. This behavior is deprecated in 0.24 and will be removed in 1.1 (renaming of 0.26). Please convert your data to numeric values explicitly instead.\n",
            "  X = check_array(X, **check_params)\n"
          ]
        },
        {
          "output_type": "execute_result",
          "data": {
            "text/plain": [
              "array([1, 1])"
            ]
          },
          "metadata": {},
          "execution_count": 178
        }
      ],
      "source": [
        "from sklearn.linear_model import LogisticRegression\n",
        "model=LogisticRegression()\n",
        "model.fit(x_train, y_train)\n",
        "y_pred = model.predict(my)\n",
        "y_pred"
      ]
    },
    {
      "cell_type": "markdown",
      "metadata": {
        "id": "n6jKmrptd0l_"
      },
      "source": [
        "### So we can see and choose the best model for Prediction."
      ]
    },
    {
      "cell_type": "markdown",
      "metadata": {
        "id": "tLJoP3Q-d0l_"
      },
      "source": [
        "# End of the Code."
      ]
    }
  ],
  "metadata": {
    "kernelspec": {
      "display_name": "Python 3",
      "language": "python",
      "name": "python3"
    },
    "language_info": {
      "codemirror_mode": {
        "name": "ipython",
        "version": 3
      },
      "file_extension": ".py",
      "mimetype": "text/x-python",
      "name": "python",
      "nbconvert_exporter": "python",
      "pygments_lexer": "ipython3",
      "version": "3.7.3"
    },
    "colab": {
      "name": "Flood_Prediction.ipynb",
      "provenance": []
    },
    "accelerator": "GPU"
  },
  "nbformat": 4,
  "nbformat_minor": 0
}